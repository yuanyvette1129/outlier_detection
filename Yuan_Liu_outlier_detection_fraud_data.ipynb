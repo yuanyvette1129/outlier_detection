{
  "nbformat": 4,
  "nbformat_minor": 0,
  "metadata": {
    "colab": {
      "name": "Yuan_Liu_outlier_detection_fraud_data.ipynb",
      "provenance": [],
      "collapsed_sections": []
    },
    "kernelspec": {
      "name": "python3",
      "display_name": "Python 3"
    }
  },
  "cells": [
    {
      "cell_type": "markdown",
      "metadata": {
        "id": "J4qzQXtzfl5e"
      },
      "source": [
        "# About the data\n",
        "\n",
        "The datasets contains transactions made by credit cards in September 2013 by european cardholders.\n",
        "This dataset presents transactions that occurred in two days, where we have 492 frauds out of 284,807 transactions. The dataset is highly unbalanced, the positive class (frauds) account for 0.172% of all transactions.\n",
        "\n",
        "It contains only numerical input variables which are the result of a PCA transformation. Unfortunately, due to confidentiality issues, we cannot provide the original features and more background information about the data. Features V1, V2, … V28 are the principal components obtained with PCA, the only features which have not been transformed with PCA are 'Time' and 'Amount'. Feature 'Time' contains the seconds elapsed between each transaction and the first transaction in the dataset. The feature 'Amount' is the transaction Amount, this feature can be used for example-dependant cost-senstive learning. Feature 'Class' is the response variable and it takes value 1 in case of fraud and 0 otherwise.\n",
        "\n",
        "# Project Goal\n",
        "Identify fraudulent credit card transactions.\n",
        "\n",
        "# Results\n",
        "1. Distribution-based modeling reach a F1 score = 0.74\n",
        "\n",
        "2. Trained Supervised ML (Random Forest) with SMOTE sampling technique improved F1 score from 0.82 to 0.85. \n",
        "\n",
        "3. Added the predicted probability feature from the distribution-based modeling, and got an F1 score of 0.83 using Random Forest (with SMOTE, improved to 0.84)\n",
        "\n",
        "4. I also tried unsupervised algorithm isolation forest, which gives a F1 score = 0.36"
      ]
    },
    {
      "cell_type": "code",
      "metadata": {
        "id": "Ot7ZHfdC9tEa"
      },
      "source": [
        "import matplotlib.pyplot as plt\n",
        "import seaborn as sns, numpy as np\n",
        "\n",
        "from numpy import genfromtxt\n",
        "from scipy.stats import multivariate_normal\n",
        "from sklearn.metrics import f1_score\n",
        "import io\n",
        "import pandas as pd\n",
        "from sklearn.model_selection import train_test_split\n",
        "from sklearn import metrics\n",
        "from sklearn.metrics import f1_score, roc_auc_score, roc_curve, precision_recall_curve, auc, make_scorer, recall_score, accuracy_score, precision_score, confusion_matrix\n"
      ],
      "execution_count": 115,
      "outputs": []
    },
    {
      "cell_type": "markdown",
      "metadata": {
        "id": "JoyZxvFs0NQt"
      },
      "source": [
        "# 1. Data Import"
      ]
    },
    {
      "cell_type": "code",
      "metadata": {
        "id": "1m3Ou494BtEW",
        "outputId": "bea26c61-1112-4467-b421-cc8a063249ba",
        "colab": {
          "base_uri": "https://localhost:8080/"
        }
      },
      "source": [
        "# Load the Drive helper and mount\n",
        "from google.colab import drive\n",
        "\n",
        "# This will prompt for authorization.\n",
        "drive.mount('/content/drive')"
      ],
      "execution_count": 116,
      "outputs": [
        {
          "output_type": "stream",
          "text": [
            "Drive already mounted at /content/drive; to attempt to forcibly remount, call drive.mount(\"/content/drive\", force_remount=True).\n"
          ],
          "name": "stdout"
        }
      ]
    },
    {
      "cell_type": "code",
      "metadata": {
        "id": "fLDTexCfACAN",
        "outputId": "060112b7-5ba8-4e9b-dc85-a6abdc98028c",
        "colab": {
          "base_uri": "https://localhost:8080/"
        }
      },
      "source": [
        "!ls \"/content/drive/My Drive/fraudData\""
      ],
      "execution_count": 117,
      "outputs": [
        {
          "output_type": "stream",
          "text": [
            "creditcard.csv\timbalancedFraudDF.csv  IpAddress_to_Country.csv\n"
          ],
          "name": "stdout"
        }
      ]
    },
    {
      "cell_type": "code",
      "metadata": {
        "id": "hAsrQUiLBFd4",
        "outputId": "19a91351-a3d9-4d6d-8ee4-e34c411f6e4f",
        "colab": {
          "base_uri": "https://localhost:8080/",
          "height": 224
        }
      },
      "source": [
        "creditcardDF = pd.read_csv('drive/My Drive/fraudData/creditcard.csv') \n",
        "creditcardDF.head()"
      ],
      "execution_count": 118,
      "outputs": [
        {
          "output_type": "execute_result",
          "data": {
            "text/html": [
              "<div>\n",
              "<style scoped>\n",
              "    .dataframe tbody tr th:only-of-type {\n",
              "        vertical-align: middle;\n",
              "    }\n",
              "\n",
              "    .dataframe tbody tr th {\n",
              "        vertical-align: top;\n",
              "    }\n",
              "\n",
              "    .dataframe thead th {\n",
              "        text-align: right;\n",
              "    }\n",
              "</style>\n",
              "<table border=\"1\" class=\"dataframe\">\n",
              "  <thead>\n",
              "    <tr style=\"text-align: right;\">\n",
              "      <th></th>\n",
              "      <th>Time</th>\n",
              "      <th>V1</th>\n",
              "      <th>V2</th>\n",
              "      <th>V3</th>\n",
              "      <th>V4</th>\n",
              "      <th>V5</th>\n",
              "      <th>V6</th>\n",
              "      <th>V7</th>\n",
              "      <th>V8</th>\n",
              "      <th>V9</th>\n",
              "      <th>V10</th>\n",
              "      <th>V11</th>\n",
              "      <th>V12</th>\n",
              "      <th>V13</th>\n",
              "      <th>V14</th>\n",
              "      <th>V15</th>\n",
              "      <th>V16</th>\n",
              "      <th>V17</th>\n",
              "      <th>V18</th>\n",
              "      <th>V19</th>\n",
              "      <th>V20</th>\n",
              "      <th>V21</th>\n",
              "      <th>V22</th>\n",
              "      <th>V23</th>\n",
              "      <th>V24</th>\n",
              "      <th>V25</th>\n",
              "      <th>V26</th>\n",
              "      <th>V27</th>\n",
              "      <th>V28</th>\n",
              "      <th>Amount</th>\n",
              "      <th>Class</th>\n",
              "    </tr>\n",
              "  </thead>\n",
              "  <tbody>\n",
              "    <tr>\n",
              "      <th>0</th>\n",
              "      <td>0.0</td>\n",
              "      <td>-1.359807</td>\n",
              "      <td>-0.072781</td>\n",
              "      <td>2.536347</td>\n",
              "      <td>1.378155</td>\n",
              "      <td>-0.338321</td>\n",
              "      <td>0.462388</td>\n",
              "      <td>0.239599</td>\n",
              "      <td>0.098698</td>\n",
              "      <td>0.363787</td>\n",
              "      <td>0.090794</td>\n",
              "      <td>-0.551600</td>\n",
              "      <td>-0.617801</td>\n",
              "      <td>-0.991390</td>\n",
              "      <td>-0.311169</td>\n",
              "      <td>1.468177</td>\n",
              "      <td>-0.470401</td>\n",
              "      <td>0.207971</td>\n",
              "      <td>0.025791</td>\n",
              "      <td>0.403993</td>\n",
              "      <td>0.251412</td>\n",
              "      <td>-0.018307</td>\n",
              "      <td>0.277838</td>\n",
              "      <td>-0.110474</td>\n",
              "      <td>0.066928</td>\n",
              "      <td>0.128539</td>\n",
              "      <td>-0.189115</td>\n",
              "      <td>0.133558</td>\n",
              "      <td>-0.021053</td>\n",
              "      <td>149.62</td>\n",
              "      <td>0</td>\n",
              "    </tr>\n",
              "    <tr>\n",
              "      <th>1</th>\n",
              "      <td>0.0</td>\n",
              "      <td>1.191857</td>\n",
              "      <td>0.266151</td>\n",
              "      <td>0.166480</td>\n",
              "      <td>0.448154</td>\n",
              "      <td>0.060018</td>\n",
              "      <td>-0.082361</td>\n",
              "      <td>-0.078803</td>\n",
              "      <td>0.085102</td>\n",
              "      <td>-0.255425</td>\n",
              "      <td>-0.166974</td>\n",
              "      <td>1.612727</td>\n",
              "      <td>1.065235</td>\n",
              "      <td>0.489095</td>\n",
              "      <td>-0.143772</td>\n",
              "      <td>0.635558</td>\n",
              "      <td>0.463917</td>\n",
              "      <td>-0.114805</td>\n",
              "      <td>-0.183361</td>\n",
              "      <td>-0.145783</td>\n",
              "      <td>-0.069083</td>\n",
              "      <td>-0.225775</td>\n",
              "      <td>-0.638672</td>\n",
              "      <td>0.101288</td>\n",
              "      <td>-0.339846</td>\n",
              "      <td>0.167170</td>\n",
              "      <td>0.125895</td>\n",
              "      <td>-0.008983</td>\n",
              "      <td>0.014724</td>\n",
              "      <td>2.69</td>\n",
              "      <td>0</td>\n",
              "    </tr>\n",
              "    <tr>\n",
              "      <th>2</th>\n",
              "      <td>1.0</td>\n",
              "      <td>-1.358354</td>\n",
              "      <td>-1.340163</td>\n",
              "      <td>1.773209</td>\n",
              "      <td>0.379780</td>\n",
              "      <td>-0.503198</td>\n",
              "      <td>1.800499</td>\n",
              "      <td>0.791461</td>\n",
              "      <td>0.247676</td>\n",
              "      <td>-1.514654</td>\n",
              "      <td>0.207643</td>\n",
              "      <td>0.624501</td>\n",
              "      <td>0.066084</td>\n",
              "      <td>0.717293</td>\n",
              "      <td>-0.165946</td>\n",
              "      <td>2.345865</td>\n",
              "      <td>-2.890083</td>\n",
              "      <td>1.109969</td>\n",
              "      <td>-0.121359</td>\n",
              "      <td>-2.261857</td>\n",
              "      <td>0.524980</td>\n",
              "      <td>0.247998</td>\n",
              "      <td>0.771679</td>\n",
              "      <td>0.909412</td>\n",
              "      <td>-0.689281</td>\n",
              "      <td>-0.327642</td>\n",
              "      <td>-0.139097</td>\n",
              "      <td>-0.055353</td>\n",
              "      <td>-0.059752</td>\n",
              "      <td>378.66</td>\n",
              "      <td>0</td>\n",
              "    </tr>\n",
              "    <tr>\n",
              "      <th>3</th>\n",
              "      <td>1.0</td>\n",
              "      <td>-0.966272</td>\n",
              "      <td>-0.185226</td>\n",
              "      <td>1.792993</td>\n",
              "      <td>-0.863291</td>\n",
              "      <td>-0.010309</td>\n",
              "      <td>1.247203</td>\n",
              "      <td>0.237609</td>\n",
              "      <td>0.377436</td>\n",
              "      <td>-1.387024</td>\n",
              "      <td>-0.054952</td>\n",
              "      <td>-0.226487</td>\n",
              "      <td>0.178228</td>\n",
              "      <td>0.507757</td>\n",
              "      <td>-0.287924</td>\n",
              "      <td>-0.631418</td>\n",
              "      <td>-1.059647</td>\n",
              "      <td>-0.684093</td>\n",
              "      <td>1.965775</td>\n",
              "      <td>-1.232622</td>\n",
              "      <td>-0.208038</td>\n",
              "      <td>-0.108300</td>\n",
              "      <td>0.005274</td>\n",
              "      <td>-0.190321</td>\n",
              "      <td>-1.175575</td>\n",
              "      <td>0.647376</td>\n",
              "      <td>-0.221929</td>\n",
              "      <td>0.062723</td>\n",
              "      <td>0.061458</td>\n",
              "      <td>123.50</td>\n",
              "      <td>0</td>\n",
              "    </tr>\n",
              "    <tr>\n",
              "      <th>4</th>\n",
              "      <td>2.0</td>\n",
              "      <td>-1.158233</td>\n",
              "      <td>0.877737</td>\n",
              "      <td>1.548718</td>\n",
              "      <td>0.403034</td>\n",
              "      <td>-0.407193</td>\n",
              "      <td>0.095921</td>\n",
              "      <td>0.592941</td>\n",
              "      <td>-0.270533</td>\n",
              "      <td>0.817739</td>\n",
              "      <td>0.753074</td>\n",
              "      <td>-0.822843</td>\n",
              "      <td>0.538196</td>\n",
              "      <td>1.345852</td>\n",
              "      <td>-1.119670</td>\n",
              "      <td>0.175121</td>\n",
              "      <td>-0.451449</td>\n",
              "      <td>-0.237033</td>\n",
              "      <td>-0.038195</td>\n",
              "      <td>0.803487</td>\n",
              "      <td>0.408542</td>\n",
              "      <td>-0.009431</td>\n",
              "      <td>0.798278</td>\n",
              "      <td>-0.137458</td>\n",
              "      <td>0.141267</td>\n",
              "      <td>-0.206010</td>\n",
              "      <td>0.502292</td>\n",
              "      <td>0.219422</td>\n",
              "      <td>0.215153</td>\n",
              "      <td>69.99</td>\n",
              "      <td>0</td>\n",
              "    </tr>\n",
              "  </tbody>\n",
              "</table>\n",
              "</div>"
            ],
            "text/plain": [
              "   Time        V1        V2        V3  ...       V27       V28  Amount  Class\n",
              "0   0.0 -1.359807 -0.072781  2.536347  ...  0.133558 -0.021053  149.62      0\n",
              "1   0.0  1.191857  0.266151  0.166480  ... -0.008983  0.014724    2.69      0\n",
              "2   1.0 -1.358354 -1.340163  1.773209  ... -0.055353 -0.059752  378.66      0\n",
              "3   1.0 -0.966272 -0.185226  1.792993  ...  0.062723  0.061458  123.50      0\n",
              "4   2.0 -1.158233  0.877737  1.548718  ...  0.219422  0.215153   69.99      0\n",
              "\n",
              "[5 rows x 31 columns]"
            ]
          },
          "metadata": {
            "tags": []
          },
          "execution_count": 118
        }
      ]
    },
    {
      "cell_type": "markdown",
      "metadata": {
        "id": "EAYOzrRWWEy4"
      },
      "source": [
        "The features are all numerical and anonymous, seems normalized"
      ]
    },
    {
      "cell_type": "markdown",
      "metadata": {
        "id": "Zfqh7l3paLQ6"
      },
      "source": [
        "# 2. EDA"
      ]
    },
    {
      "cell_type": "code",
      "metadata": {
        "id": "cmbDYSzDHd1a",
        "outputId": "b182cbd3-08ac-4d2f-cf04-05746b6b548e",
        "colab": {
          "base_uri": "https://localhost:8080/"
        }
      },
      "source": [
        "#Distribution of the label column\n",
        "creditcardDF['Class'].value_counts()"
      ],
      "execution_count": 119,
      "outputs": [
        {
          "output_type": "execute_result",
          "data": {
            "text/plain": [
              "0    284315\n",
              "1       492\n",
              "Name: Class, dtype: int64"
            ]
          },
          "metadata": {
            "tags": []
          },
          "execution_count": 119
        }
      ]
    },
    {
      "cell_type": "code",
      "metadata": {
        "id": "YRXR-vc1JJ3m",
        "outputId": "870d7dc3-8c0b-41df-c5f0-5d9cfccf1fb2",
        "colab": {
          "base_uri": "https://localhost:8080/"
        }
      },
      "source": [
        "print(creditcardDF['Class'].sum()/len(creditcardDF['Class'])) #<0.2 percent"
      ],
      "execution_count": 120,
      "outputs": [
        {
          "output_type": "stream",
          "text": [
            "0.001727485630620034\n"
          ],
          "name": "stdout"
        }
      ]
    },
    {
      "cell_type": "markdown",
      "metadata": {
        "id": "PnyG6dRmWkXl"
      },
      "source": [
        "Less than 0.2% of fraudulent transactions. Highly imbalanced"
      ]
    },
    {
      "cell_type": "code",
      "metadata": {
        "id": "fZLQtN8uIQp8",
        "outputId": "b1dd1df8-2659-4de3-c1d1-5e47fa623328",
        "colab": {
          "base_uri": "https://localhost:8080/"
        }
      },
      "source": [
        "creditcardDF.shape"
      ],
      "execution_count": 121,
      "outputs": [
        {
          "output_type": "execute_result",
          "data": {
            "text/plain": [
              "(284807, 31)"
            ]
          },
          "metadata": {
            "tags": []
          },
          "execution_count": 121
        }
      ]
    },
    {
      "cell_type": "code",
      "metadata": {
        "id": "q2hF4Q5st6Ji",
        "outputId": "cdf4d6f7-5a00-4dd3-b8ec-fabad00667e7",
        "colab": {
          "base_uri": "https://localhost:8080/"
        }
      },
      "source": [
        "#check missing value\n",
        "creditcardDF.isna().sum()"
      ],
      "execution_count": 122,
      "outputs": [
        {
          "output_type": "execute_result",
          "data": {
            "text/plain": [
              "Time      0\n",
              "V1        0\n",
              "V2        0\n",
              "V3        0\n",
              "V4        0\n",
              "V5        0\n",
              "V6        0\n",
              "V7        0\n",
              "V8        0\n",
              "V9        0\n",
              "V10       0\n",
              "V11       0\n",
              "V12       0\n",
              "V13       0\n",
              "V14       0\n",
              "V15       0\n",
              "V16       0\n",
              "V17       0\n",
              "V18       0\n",
              "V19       0\n",
              "V20       0\n",
              "V21       0\n",
              "V22       0\n",
              "V23       0\n",
              "V24       0\n",
              "V25       0\n",
              "V26       0\n",
              "V27       0\n",
              "V28       0\n",
              "Amount    0\n",
              "Class     0\n",
              "dtype: int64"
            ]
          },
          "metadata": {
            "tags": []
          },
          "execution_count": 122
        }
      ]
    },
    {
      "cell_type": "code",
      "metadata": {
        "id": "FsxkUIOPZRQf",
        "outputId": "04beed97-d658-4596-ec63-083d0b86e08b",
        "colab": {
          "base_uri": "https://localhost:8080/"
        }
      },
      "source": [
        "# check the unique values for each column\n",
        "creditcardDF.nunique()"
      ],
      "execution_count": 123,
      "outputs": [
        {
          "output_type": "execute_result",
          "data": {
            "text/plain": [
              "Time      124592\n",
              "V1        275663\n",
              "V2        275663\n",
              "V3        275663\n",
              "V4        275663\n",
              "V5        275663\n",
              "V6        275663\n",
              "V7        275663\n",
              "V8        275663\n",
              "V9        275663\n",
              "V10       275663\n",
              "V11       275663\n",
              "V12       275663\n",
              "V13       275663\n",
              "V14       275663\n",
              "V15       275663\n",
              "V16       275663\n",
              "V17       275663\n",
              "V18       275663\n",
              "V19       275663\n",
              "V20       275663\n",
              "V21       275663\n",
              "V22       275663\n",
              "V23       275663\n",
              "V24       275663\n",
              "V25       275663\n",
              "V26       275663\n",
              "V27       275663\n",
              "V28       275663\n",
              "Amount     32767\n",
              "Class          2\n",
              "dtype: int64"
            ]
          },
          "metadata": {
            "tags": []
          },
          "execution_count": 123
        }
      ]
    },
    {
      "cell_type": "code",
      "metadata": {
        "id": "h_wWarLPuQ5v",
        "outputId": "34683c59-d5bd-4883-d031-e63b895b854f",
        "colab": {
          "base_uri": "https://localhost:8080/",
          "height": 361
        }
      },
      "source": [
        "sns.distplot(creditcardDF['Time'])"
      ],
      "execution_count": 124,
      "outputs": [
        {
          "output_type": "stream",
          "text": [
            "/usr/local/lib/python3.6/dist-packages/seaborn/distributions.py:2551: FutureWarning: `distplot` is a deprecated function and will be removed in a future version. Please adapt your code to use either `displot` (a figure-level function with similar flexibility) or `histplot` (an axes-level function for histograms).\n",
            "  warnings.warn(msg, FutureWarning)\n"
          ],
          "name": "stderr"
        },
        {
          "output_type": "execute_result",
          "data": {
            "text/plain": [
              "<matplotlib.axes._subplots.AxesSubplot at 0x7fe975e5eeb8>"
            ]
          },
          "metadata": {
            "tags": []
          },
          "execution_count": 124
        },
        {
          "output_type": "display_data",
          "data": {
            "image/png": "[encoded data removed]",
            "text/plain": [
              "<Figure size 432x288 with 1 Axes>"
            ]
          },
          "metadata": {
            "tags": [],
            "needs_background": "light"
          }
        }
      ]
    },
    {
      "cell_type": "code",
      "metadata": {
        "id": "XXDOx1uEaUF8",
        "outputId": "c14279aa-25cd-49fe-b5a3-00e0a4192aea",
        "colab": {
          "base_uri": "https://localhost:8080/",
          "height": 395
        }
      },
      "source": [
        "# density plot by class\n",
        "sns.distplot(creditcardDF[creditcardDF['Class'] == 0]['Time'], hist = False, kde = True, label='class = 0')\n",
        "sns.distplot(creditcardDF[creditcardDF['Class'] == 1]['Time'], hist = False, kde = True, label='class = 1')\n",
        "\n",
        "# creditcardDF.groupby(\"Class\").Time.plot(kind='kde',legend=True)\n",
        "# sns.displot(data=creditcardDF, x='Time', hue='Class', kind='kde')"
      ],
      "execution_count": 125,
      "outputs": [
        {
          "output_type": "stream",
          "text": [
            "/usr/local/lib/python3.6/dist-packages/seaborn/distributions.py:2551: FutureWarning: `distplot` is a deprecated function and will be removed in a future version. Please adapt your code to use either `displot` (a figure-level function with similar flexibility) or `kdeplot` (an axes-level function for kernel density plots).\n",
            "  warnings.warn(msg, FutureWarning)\n",
            "/usr/local/lib/python3.6/dist-packages/seaborn/distributions.py:2551: FutureWarning: `distplot` is a deprecated function and will be removed in a future version. Please adapt your code to use either `displot` (a figure-level function with similar flexibility) or `kdeplot` (an axes-level function for kernel density plots).\n",
            "  warnings.warn(msg, FutureWarning)\n"
          ],
          "name": "stderr"
        },
        {
          "output_type": "execute_result",
          "data": {
            "text/plain": [
              "<matplotlib.axes._subplots.AxesSubplot at 0x7fe975df9ef0>"
            ]
          },
          "metadata": {
            "tags": []
          },
          "execution_count": 125
        },
        {
          "output_type": "display_data",
          "data": {
            "image/png": "[encoded data removed]",
            "text/plain": [
              "<Figure size 432x288 with 1 Axes>"
            ]
          },
          "metadata": {
            "tags": [],
            "needs_background": "light"
          }
        }
      ]
    },
    {
      "cell_type": "code",
      "metadata": {
        "id": "_s5s4tUSuQm9",
        "outputId": "80ef49b9-8ef9-453b-fa99-5f859518bc5c",
        "colab": {
          "base_uri": "https://localhost:8080/",
          "height": 350
        }
      },
      "source": [
        "sns.distplot(creditcardDF['Amount'])"
      ],
      "execution_count": 126,
      "outputs": [
        {
          "output_type": "stream",
          "text": [
            "/usr/local/lib/python3.6/dist-packages/seaborn/distributions.py:2551: FutureWarning: `distplot` is a deprecated function and will be removed in a future version. Please adapt your code to use either `displot` (a figure-level function with similar flexibility) or `histplot` (an axes-level function for histograms).\n",
            "  warnings.warn(msg, FutureWarning)\n"
          ],
          "name": "stderr"
        },
        {
          "output_type": "execute_result",
          "data": {
            "text/plain": [
              "<matplotlib.axes._subplots.AxesSubplot at 0x7fe97958e6a0>"
            ]
          },
          "metadata": {
            "tags": []
          },
          "execution_count": 126
        },
        {
          "output_type": "display_data",
          "data": {
            "image/png": "[encoded data removed]",
            "text/plain": [
              "<Figure size 432x288 with 1 Axes>"
            ]
          },
          "metadata": {
            "tags": [],
            "needs_background": "light"
          }
        }
      ]
    },
    {
      "cell_type": "code",
      "metadata": {
        "id": "S7Q3pRLadK8s",
        "outputId": "60ce2403-98f6-4822-cc57-d88510de7945",
        "colab": {
          "base_uri": "https://localhost:8080/",
          "height": 333
        }
      },
      "source": [
        "creditcardDF.groupby(\"Class\").Amount.plot(kind='kde',legend=True)"
      ],
      "execution_count": 127,
      "outputs": [
        {
          "output_type": "execute_result",
          "data": {
            "text/plain": [
              "Class\n",
              "0    AxesSubplot(0.125,0.125;0.775x0.755)\n",
              "1    AxesSubplot(0.125,0.125;0.775x0.755)\n",
              "Name: Amount, dtype: object"
            ]
          },
          "metadata": {
            "tags": []
          },
          "execution_count": 127
        },
        {
          "output_type": "display_data",
          "data": {
            "image/png": "[encoded data removed]",
            "text/plain": [
              "<Figure size 432x288 with 1 Axes>"
            ]
          },
          "metadata": {
            "tags": [],
            "needs_background": "light"
          }
        }
      ]
    },
    {
      "cell_type": "code",
      "metadata": {
        "id": "puQtBjQamdBd"
      },
      "source": [
        "# amount and time are quite skewed (not normal)\n",
        "# do log tranformation to have a nicer range\n",
        "creditcardDF['Amount'] = np.log(creditcardDF['Amount'] + 1)\n",
        "\n",
        "creditcardDF['Time'] = np.log(creditcardDF['Time'] + 1)"
      ],
      "execution_count": 128,
      "outputs": []
    },
    {
      "cell_type": "code",
      "metadata": {
        "id": "H2ATmIEuqfEU",
        "outputId": "74d6ded4-e018-4c60-d3d8-ddedbe85bfa0",
        "colab": {
          "base_uri": "https://localhost:8080/",
          "height": 351
        }
      },
      "source": [
        "sns.distplot(creditcardDF['Time'])"
      ],
      "execution_count": 129,
      "outputs": [
        {
          "output_type": "stream",
          "text": [
            "/usr/local/lib/python3.6/dist-packages/seaborn/distributions.py:2551: FutureWarning: `distplot` is a deprecated function and will be removed in a future version. Please adapt your code to use either `displot` (a figure-level function with similar flexibility) or `histplot` (an axes-level function for histograms).\n",
            "  warnings.warn(msg, FutureWarning)\n"
          ],
          "name": "stderr"
        },
        {
          "output_type": "execute_result",
          "data": {
            "text/plain": [
              "<matplotlib.axes._subplots.AxesSubplot at 0x7fe96d65fa58>"
            ]
          },
          "metadata": {
            "tags": []
          },
          "execution_count": 129
        },
        {
          "output_type": "display_data",
          "data": {
            "image/png": "[encoded data removed]",
            "text/plain": [
              "<Figure size 432x288 with 1 Axes>"
            ]
          },
          "metadata": {
            "tags": [],
            "needs_background": "light"
          }
        }
      ]
    },
    {
      "cell_type": "code",
      "metadata": {
        "id": "qhplqTkUqn8e",
        "outputId": "098c873c-f9aa-4e67-93f5-3bde99cc1eca",
        "colab": {
          "base_uri": "https://localhost:8080/",
          "height": 351
        }
      },
      "source": [
        "sns.distplot(creditcardDF['Amount'])"
      ],
      "execution_count": 130,
      "outputs": [
        {
          "output_type": "stream",
          "text": [
            "/usr/local/lib/python3.6/dist-packages/seaborn/distributions.py:2551: FutureWarning: `distplot` is a deprecated function and will be removed in a future version. Please adapt your code to use either `displot` (a figure-level function with similar flexibility) or `histplot` (an axes-level function for histograms).\n",
            "  warnings.warn(msg, FutureWarning)\n"
          ],
          "name": "stderr"
        },
        {
          "output_type": "execute_result",
          "data": {
            "text/plain": [
              "<matplotlib.axes._subplots.AxesSubplot at 0x7fe96d5c5cc0>"
            ]
          },
          "metadata": {
            "tags": []
          },
          "execution_count": 130
        },
        {
          "output_type": "display_data",
          "data": {
            "image/png": "[encoded data removed]",
            "text/plain": [
              "<Figure size 432x288 with 1 Axes>"
            ]
          },
          "metadata": {
            "tags": [],
            "needs_background": "light"
          }
        }
      ]
    },
    {
      "cell_type": "markdown",
      "metadata": {
        "id": "re_dKJEvq81t"
      },
      "source": [
        "#3. Distribution-based Modeling\n",
        "\n",
        "## Train, Validation, Test Split\n",
        "\n",
        "- Train: 80% of 0 class\n",
        "- Validation: 50% of 1 class + 10% of 0 class\n",
        "- Test: 50% of 1 class + 10% of 0 class\n"
      ]
    },
    {
      "cell_type": "code",
      "metadata": {
        "id": "C1lrJCCou_Bo",
        "outputId": "1c79337d-f111-46e3-ce64-7bf60426e411",
        "colab": {
          "base_uri": "https://localhost:8080/"
        }
      },
      "source": [
        "normal = creditcardDF[creditcardDF['Class'] == 0]\n",
        "anomaly = creditcardDF[creditcardDF['Class'] == 1]\n",
        "\n",
        "# all normal/good\n",
        "train, test = train_test_split(normal, test_size=0.2, random_state=0)\n",
        "\n",
        "#all normal/good\n",
        "normal_valid, normal_test = train_test_split(test, test_size=0.5, random_state=0)\n",
        "\n",
        "#all anomaly/bad\n",
        "anomaly_valid, anomaly_test = train_test_split(anomaly, test_size=0.5, random_state=0)\n",
        "\n",
        "#include both good and bad\n",
        "validation = pd.concat([normal_valid, anomaly_valid])\n",
        "\n",
        "#include both good and bad\n",
        "test = pd.concat([normal_test, anomaly_test])\n",
        "\n",
        "\n",
        "print('validation: ',validation.shape)\n",
        "print('test: ', test.shape)\n",
        "\n",
        "#no need of label in train data, drop it\n",
        "train = train.drop(columns = ['Class']).reset_index(drop= True)\n",
        "print('train: ', train.shape)"
      ],
      "execution_count": 131,
      "outputs": [
        {
          "output_type": "stream",
          "text": [
            "validation:  (28677, 31)\n",
            "test:  (28678, 31)\n",
            "train:  (227452, 30)\n"
          ],
          "name": "stdout"
        }
      ]
    },
    {
      "cell_type": "code",
      "metadata": {
        "id": "tb6GZTYC9O97"
      },
      "source": [
        "# get a list of feature names, no label\n",
        "featureNames = list(train.columns.values)\n",
        "\n",
        "#feature df only, no label\n",
        "valFeatures = validation[featureNames].reset_index(drop= True)\n",
        "testFeatures = test[featureNames].reset_index(drop= True)\n",
        "\n",
        "#label df only\n",
        "valLabel = validation['Class']\n",
        "testLabel = test['Class']\n"
      ],
      "execution_count": 132,
      "outputs": []
    },
    {
      "cell_type": "code",
      "metadata": {
        "id": "jW20aYtk3lo1",
        "outputId": "32e9f06b-ce01-4b0d-fe29-b5dece1f127e",
        "colab": {
          "base_uri": "https://localhost:8080/",
          "height": 224
        }
      },
      "source": [
        "valFeatures.head()"
      ],
      "execution_count": 133,
      "outputs": [
        {
          "output_type": "execute_result",
          "data": {
            "text/html": [
              "<div>\n",
              "<style scoped>\n",
              "    .dataframe tbody tr th:only-of-type {\n",
              "        vertical-align: middle;\n",
              "    }\n",
              "\n",
              "    .dataframe tbody tr th {\n",
              "        vertical-align: top;\n",
              "    }\n",
              "\n",
              "    .dataframe thead th {\n",
              "        text-align: right;\n",
              "    }\n",
              "</style>\n",
              "<table border=\"1\" class=\"dataframe\">\n",
              "  <thead>\n",
              "    <tr style=\"text-align: right;\">\n",
              "      <th></th>\n",
              "      <th>Time</th>\n",
              "      <th>V1</th>\n",
              "      <th>V2</th>\n",
              "      <th>V3</th>\n",
              "      <th>V4</th>\n",
              "      <th>V5</th>\n",
              "      <th>V6</th>\n",
              "      <th>V7</th>\n",
              "      <th>V8</th>\n",
              "      <th>V9</th>\n",
              "      <th>V10</th>\n",
              "      <th>V11</th>\n",
              "      <th>V12</th>\n",
              "      <th>V13</th>\n",
              "      <th>V14</th>\n",
              "      <th>V15</th>\n",
              "      <th>V16</th>\n",
              "      <th>V17</th>\n",
              "      <th>V18</th>\n",
              "      <th>V19</th>\n",
              "      <th>V20</th>\n",
              "      <th>V21</th>\n",
              "      <th>V22</th>\n",
              "      <th>V23</th>\n",
              "      <th>V24</th>\n",
              "      <th>V25</th>\n",
              "      <th>V26</th>\n",
              "      <th>V27</th>\n",
              "      <th>V28</th>\n",
              "      <th>Amount</th>\n",
              "    </tr>\n",
              "  </thead>\n",
              "  <tbody>\n",
              "    <tr>\n",
              "      <th>0</th>\n",
              "      <td>11.827043</td>\n",
              "      <td>-0.248023</td>\n",
              "      <td>1.259502</td>\n",
              "      <td>-0.993999</td>\n",
              "      <td>-1.587788</td>\n",
              "      <td>1.913462</td>\n",
              "      <td>-0.630270</td>\n",
              "      <td>1.958852</td>\n",
              "      <td>-0.659274</td>\n",
              "      <td>0.002373</td>\n",
              "      <td>0.718353</td>\n",
              "      <td>0.474332</td>\n",
              "      <td>0.297023</td>\n",
              "      <td>-0.025971</td>\n",
              "      <td>0.256813</td>\n",
              "      <td>-0.730278</td>\n",
              "      <td>-0.479395</td>\n",
              "      <td>-1.145347</td>\n",
              "      <td>0.234891</td>\n",
              "      <td>0.351396</td>\n",
              "      <td>0.396605</td>\n",
              "      <td>0.089915</td>\n",
              "      <td>0.896611</td>\n",
              "      <td>-0.367547</td>\n",
              "      <td>0.143515</td>\n",
              "      <td>-0.177558</td>\n",
              "      <td>0.025269</td>\n",
              "      <td>0.271419</td>\n",
              "      <td>-0.066416</td>\n",
              "      <td>0.920283</td>\n",
              "    </tr>\n",
              "    <tr>\n",
              "      <th>1</th>\n",
              "      <td>10.809566</td>\n",
              "      <td>-1.614505</td>\n",
              "      <td>-0.970137</td>\n",
              "      <td>1.730517</td>\n",
              "      <td>-1.715497</td>\n",
              "      <td>-0.869271</td>\n",
              "      <td>-0.171355</td>\n",
              "      <td>1.216768</td>\n",
              "      <td>-0.031314</td>\n",
              "      <td>0.992762</td>\n",
              "      <td>-2.191051</td>\n",
              "      <td>-1.019348</td>\n",
              "      <td>0.600947</td>\n",
              "      <td>0.821185</td>\n",
              "      <td>-0.477250</td>\n",
              "      <td>0.612733</td>\n",
              "      <td>-0.092783</td>\n",
              "      <td>-0.664174</td>\n",
              "      <td>0.643702</td>\n",
              "      <td>-0.047904</td>\n",
              "      <td>0.831753</td>\n",
              "      <td>0.408654</td>\n",
              "      <td>0.630537</td>\n",
              "      <td>0.382848</td>\n",
              "      <td>-0.110627</td>\n",
              "      <td>0.906539</td>\n",
              "      <td>-0.618206</td>\n",
              "      <td>-0.026364</td>\n",
              "      <td>0.104561</td>\n",
              "      <td>5.874931</td>\n",
              "    </tr>\n",
              "    <tr>\n",
              "      <th>2</th>\n",
              "      <td>11.340380</td>\n",
              "      <td>1.106176</td>\n",
              "      <td>0.148096</td>\n",
              "      <td>0.424489</td>\n",
              "      <td>1.282916</td>\n",
              "      <td>-0.080275</td>\n",
              "      <td>0.146526</td>\n",
              "      <td>-0.007108</td>\n",
              "      <td>0.114953</td>\n",
              "      <td>-0.004731</td>\n",
              "      <td>0.033642</td>\n",
              "      <td>1.200830</td>\n",
              "      <td>1.342878</td>\n",
              "      <td>0.018898</td>\n",
              "      <td>0.217944</td>\n",
              "      <td>-0.819673</td>\n",
              "      <td>-0.536572</td>\n",
              "      <td>-0.000444</td>\n",
              "      <td>-0.509860</td>\n",
              "      <td>-0.081917</td>\n",
              "      <td>-0.148073</td>\n",
              "      <td>-0.042488</td>\n",
              "      <td>0.071593</td>\n",
              "      <td>-0.085294</td>\n",
              "      <td>0.032780</td>\n",
              "      <td>0.637894</td>\n",
              "      <td>-0.331179</td>\n",
              "      <td>0.036130</td>\n",
              "      <td>0.007639</td>\n",
              "      <td>2.866193</td>\n",
              "    </tr>\n",
              "    <tr>\n",
              "      <th>3</th>\n",
              "      <td>11.321208</td>\n",
              "      <td>-1.791995</td>\n",
              "      <td>1.102738</td>\n",
              "      <td>0.324217</td>\n",
              "      <td>1.082267</td>\n",
              "      <td>-0.303348</td>\n",
              "      <td>-1.050303</td>\n",
              "      <td>0.066270</td>\n",
              "      <td>0.613586</td>\n",
              "      <td>-0.720545</td>\n",
              "      <td>-0.232754</td>\n",
              "      <td>-0.741686</td>\n",
              "      <td>0.317251</td>\n",
              "      <td>0.404740</td>\n",
              "      <td>0.810007</td>\n",
              "      <td>0.990986</td>\n",
              "      <td>-0.069383</td>\n",
              "      <td>0.096501</td>\n",
              "      <td>0.143086</td>\n",
              "      <td>0.447363</td>\n",
              "      <td>-0.285331</td>\n",
              "      <td>0.151935</td>\n",
              "      <td>0.514245</td>\n",
              "      <td>0.290932</td>\n",
              "      <td>0.403345</td>\n",
              "      <td>-0.064118</td>\n",
              "      <td>-0.318054</td>\n",
              "      <td>0.021940</td>\n",
              "      <td>0.013401</td>\n",
              "      <td>3.432373</td>\n",
              "    </tr>\n",
              "    <tr>\n",
              "      <th>4</th>\n",
              "      <td>11.956784</td>\n",
              "      <td>1.924286</td>\n",
              "      <td>0.324362</td>\n",
              "      <td>-0.734639</td>\n",
              "      <td>3.370481</td>\n",
              "      <td>0.783552</td>\n",
              "      <td>1.224944</td>\n",
              "      <td>-0.298881</td>\n",
              "      <td>0.291717</td>\n",
              "      <td>-0.790152</td>\n",
              "      <td>1.592072</td>\n",
              "      <td>-0.561561</td>\n",
              "      <td>-0.101690</td>\n",
              "      <td>-0.249445</td>\n",
              "      <td>0.233490</td>\n",
              "      <td>-1.160360</td>\n",
              "      <td>1.566431</td>\n",
              "      <td>-1.480919</td>\n",
              "      <td>0.594003</td>\n",
              "      <td>-0.903739</td>\n",
              "      <td>-0.227395</td>\n",
              "      <td>-0.022543</td>\n",
              "      <td>-0.115448</td>\n",
              "      <td>0.143200</td>\n",
              "      <td>-0.357497</td>\n",
              "      <td>-0.109288</td>\n",
              "      <td>-0.105516</td>\n",
              "      <td>-0.025440</td>\n",
              "      <td>-0.050761</td>\n",
              "      <td>2.572612</td>\n",
              "    </tr>\n",
              "  </tbody>\n",
              "</table>\n",
              "</div>"
            ],
            "text/plain": [
              "        Time        V1        V2  ...       V27       V28    Amount\n",
              "0  11.827043 -0.248023  1.259502  ...  0.271419 -0.066416  0.920283\n",
              "1  10.809566 -1.614505 -0.970137  ... -0.026364  0.104561  5.874931\n",
              "2  11.340380  1.106176  0.148096  ...  0.036130  0.007639  2.866193\n",
              "3  11.321208 -1.791995  1.102738  ...  0.021940  0.013401  3.432373\n",
              "4  11.956784  1.924286  0.324362  ... -0.025440 -0.050761  2.572612\n",
              "\n",
              "[5 rows x 30 columns]"
            ]
          },
          "metadata": {
            "tags": []
          },
          "execution_count": 133
        }
      ]
    },
    {
      "cell_type": "code",
      "metadata": {
        "id": "uC4U5x8f_fIu",
        "outputId": "885c121e-51f1-4180-b497-3eae8646e778",
        "colab": {
          "base_uri": "https://localhost:8080/",
          "height": 295
        }
      },
      "source": [
        "plt.figure()\n",
        "plt.title(\"train data of V1 and V2\")#may contain outliers\n",
        "plt.xlabel(\"V1\")\n",
        "plt.ylabel(\"V2\")\n",
        "plt.plot(train.iloc[:, 1],train.iloc[:,2],\"bx\")\n",
        "plt.show()"
      ],
      "execution_count": 134,
      "outputs": [
        {
          "output_type": "display_data",
          "data": {
            "image/png": "[encoded data removed]",
            "text/plain": [
              "<Figure size 432x288 with 1 Axes>"
            ]
          },
          "metadata": {
            "tags": [],
            "needs_background": "light"
          }
        }
      ]
    },
    {
      "cell_type": "code",
      "metadata": {
        "id": "ClT7DCgz_hZ5",
        "outputId": "15ec3a2a-7ea1-45f6-a4e8-60c62c6ed269",
        "colab": {
          "base_uri": "https://localhost:8080/",
          "height": 295
        }
      },
      "source": [
        "plt.figure()\n",
        "plt.title(\"validation data of V1 and V2\")\n",
        "plt.xlabel(\"V1\")\n",
        "plt.ylabel(\"V2\")\n",
        "plt.plot(validation.iloc[:, 1],validation.iloc[:,2],\"bx\")\n",
        "plt.show()"
      ],
      "execution_count": 135,
      "outputs": [
        {
          "output_type": "display_data",
          "data": {
            "image/png": "[encoded data removed]",
            "text/plain": [
              "<Figure size 432x288 with 1 Axes>"
            ]
          },
          "metadata": {
            "tags": [],
            "needs_background": "light"
          }
        }
      ]
    },
    {
      "cell_type": "code",
      "metadata": {
        "id": "xS8r6bm1_lTB",
        "outputId": "f474ffd8-bf1a-46c1-c39a-ba5851c92735",
        "colab": {
          "base_uri": "https://localhost:8080/",
          "height": 295
        }
      },
      "source": [
        "plt.figure()\n",
        "plt.title(\"test data of V1 and V2\")\n",
        "plt.xlabel(\"V1\")\n",
        "plt.ylabel(\"V2\")\n",
        "plt.plot(test.iloc[:, 1],test.iloc[:,2],\"bx\")\n",
        "plt.show()"
      ],
      "execution_count": 136,
      "outputs": [
        {
          "output_type": "display_data",
          "data": {
            "image/png": "[encoded data removed]",
            "text/plain": [
              "<Figure size 432x288 with 1 Axes>"
            ]
          },
          "metadata": {
            "tags": [],
            "needs_background": "light"
          }
        }
      ]
    },
    {
      "cell_type": "markdown",
      "metadata": {
        "id": "tbOHByKXFJg-"
      },
      "source": [
        "### Fit Multivariate Gaussian distribution\n",
        "The multivariate normal, multinormal or Gaussian distribution is a generalization of the one-dimensional normal distribution to higher dimensions. Such a distribution is specified by its mean and covariance matrix. These parameters are analogous to the mean (average or “center”) and variance (standard deviation, or “width,” squared) of the one-dimensional normal distribution."
      ]
    },
    {
      "cell_type": "code",
      "metadata": {
        "id": "X7IkBlGp_xum"
      },
      "source": [
        "# def read_dataset(filePath, delimiter=','):\n",
        "#     return genfromtxt(filePath, delimiter=delimiter)\n",
        "\n",
        "#find mean and covaraince matrix parameter for each col/feature in df for the Gaussian distribution\n",
        "def estimateGaussian(dataset):\n",
        "    mu = np.mean(dataset, axis=0)\n",
        "    sigma = np.cov(dataset.T)\n",
        "    return mu, sigma\n"
      ],
      "execution_count": 137,
      "outputs": []
    },
    {
      "cell_type": "code",
      "metadata": {
        "id": "86g-XAQb-Upk",
        "outputId": "89bf25ac-3be8-466e-e1f0-f79400cb5cb5",
        "colab": {
          "base_uri": "https://localhost:8080/"
        }
      },
      "source": [
        "#https://docs.scipy.org/doc/numpy/reference/generated/numpy.linspace.html\n",
        "#Return evenly spaced numbers over a specified interval.\n",
        "np.linspace(1, 21,10, endpoint = False)"
      ],
      "execution_count": 138,
      "outputs": [
        {
          "output_type": "execute_result",
          "data": {
            "text/plain": [
              "array([ 1.,  3.,  5.,  7.,  9., 11., 13., 15., 17., 19.])"
            ]
          },
          "metadata": {
            "tags": []
          },
          "execution_count": 138
        }
      ]
    },
    {
      "cell_type": "code",
      "metadata": {
        "id": "IM_7v2o4Wmah"
      },
      "source": [
        "#step 1: model training \n",
        "mu, sigma = estimateGaussian(train)\n"
      ],
      "execution_count": 139,
      "outputs": []
    },
    {
      "cell_type": "code",
      "metadata": {
        "id": "MPUI4YEPP10K",
        "outputId": "f5e86e1f-7782-4651-eb52-d9653dd67b7b",
        "colab": {
          "base_uri": "https://localhost:8080/"
        }
      },
      "source": [
        "print(np.mean(train.iloc[:,1]))\n",
        "print(mu[1])"
      ],
      "execution_count": 140,
      "outputs": [
        {
          "output_type": "stream",
          "text": [
            "0.005246755420062154\n",
            "0.005246755420062154\n"
          ],
          "name": "stdout"
        }
      ]
    },
    {
      "cell_type": "code",
      "metadata": {
        "id": "EoBxPd-eQI1E",
        "outputId": "45ac04d7-e76f-49db-93b5-2dc651fe8410",
        "colab": {
          "base_uri": "https://localhost:8080/"
        }
      },
      "source": [
        "print(mu)\n",
        "# print(sigma)"
      ],
      "execution_count": 141,
      "outputs": [
        {
          "output_type": "stream",
          "text": [
            "Time      11.252384\n",
            "V1         0.005247\n",
            "V2        -0.005416\n",
            "V3         0.010293\n",
            "V4        -0.008144\n",
            "V5         0.004281\n",
            "V6         0.001813\n",
            "V7         0.010354\n",
            "V8        -0.001103\n",
            "V9         0.006351\n",
            "V10        0.009573\n",
            "V11       -0.007736\n",
            "V12        0.009943\n",
            "V13        0.001084\n",
            "V14        0.010816\n",
            "V15        0.001082\n",
            "V16        0.007216\n",
            "V17        0.012364\n",
            "V18        0.003412\n",
            "V19       -0.001811\n",
            "V20       -0.001092\n",
            "V21       -0.001302\n",
            "V22       -0.000354\n",
            "V23        0.000209\n",
            "V24        0.000288\n",
            "V25        0.000375\n",
            "V26        0.000457\n",
            "V27       -0.000509\n",
            "V28       -0.000119\n",
            "Amount     3.152259\n",
            "dtype: float64\n"
          ],
          "name": "stdout"
        }
      ]
    },
    {
      "cell_type": "code",
      "metadata": {
        "id": "Zt6XZPIbP3RG"
      },
      "source": [
        "#generate the probability density function/curve/surface/model for multivariate_normal given mean and cov \n",
        "model = multivariate_normal(mean=mu, cov=sigma, allow_singular = True)#surface hat"
      ],
      "execution_count": 142,
      "outputs": []
    },
    {
      "cell_type": "code",
      "metadata": {
        "id": "UZ63Z1kt6Urs",
        "outputId": "44c1d12d-7700-4e60-c7b1-adb8f47d6361",
        "colab": {
          "base_uri": "https://localhost:8080/"
        }
      },
      "source": [
        "pdfVal = model.pdf(valFeatures)\n",
        "print(max(pdfVal))# the prob are too small, can not differentiate\n",
        "print(min(pdfVal))"
      ],
      "execution_count": 143,
      "outputs": [
        {
          "output_type": "stream",
          "text": [
            "3.936022689247968e-12\n",
            "0.0\n"
          ],
          "name": "stdout"
        }
      ]
    },
    {
      "cell_type": "code",
      "metadata": {
        "id": "fObZ8CZrGYTd",
        "outputId": "056635a3-f4ab-4960-829b-9292c496f15a",
        "colab": {
          "base_uri": "https://localhost:8080/"
        }
      },
      "source": [
        "#Log of the pdf first, then apply to features, to change the magnitude of prob\n",
        "p_val = model.logpdf(valFeatures)\n",
        "print(max(p_val))#\n",
        "print(min(p_val))"
      ],
      "execution_count": 144,
      "outputs": [
        {
          "output_type": "stream",
          "text": [
            "-26.26085037221045\n",
            "-7554.270217704667\n"
          ],
          "name": "stdout"
        }
      ]
    },
    {
      "cell_type": "code",
      "metadata": {
        "id": "MLUcuuoaADXA",
        "outputId": "157b253c-7f4d-48c5-9126-90cd6af25438",
        "colab": {
          "base_uri": "https://localhost:8080/"
        }
      },
      "source": [
        "p = model.logpdf(train)\n",
        "print(p.shape)\n",
        "print((p_val.shape))\n",
        "print(p)"
      ],
      "execution_count": 145,
      "outputs": [
        {
          "output_type": "stream",
          "text": [
            "(227452,)\n",
            "(28677,)\n",
            "[-31.00401099 -43.63232557 -33.03230045 ... -30.36472744 -35.74472592\n",
            " -37.79165708]\n"
          ],
          "name": "stdout"
        }
      ]
    },
    {
      "cell_type": "code",
      "metadata": {
        "id": "bS1dGJNSX3ay",
        "outputId": "df07f113-16b1-4454-dbd6-516a90ac9215",
        "colab": {
          "base_uri": "https://localhost:8080/"
        }
      },
      "source": [
        "print('range of p in validation :', min(p_val), max(p_val))\n",
        "\n",
        "print('range of p in training :', min(p), max(p))"
      ],
      "execution_count": 146,
      "outputs": [
        {
          "output_type": "stream",
          "text": [
            "range of p in validation : -7554.270217704667 -26.26085037221045\n",
            "range of p in training : -18323.67043953756 -25.96282892225995\n"
          ],
          "name": "stdout"
        }
      ]
    },
    {
      "cell_type": "markdown",
      "metadata": {
        "id": "xk-MqdXGMhEH"
      },
      "source": [
        "### Find Threshold"
      ]
    },
    {
      "cell_type": "code",
      "metadata": {
        "id": "8CbvIg7ZC5SP",
        "outputId": "1a169d18-1667-4726-e72b-90ece1ca02e1",
        "colab": {
          "base_uri": "https://localhost:8080/"
        }
      },
      "source": [
        "scores = []\n",
        "p_val = model.logpdf(valFeatures)#Log of the pdf\n",
        "\n",
        "#generate all candidate threshold, epsilon\n",
        "thresholds = np.linspace(min(p_val), max(p_val),200)\n",
        "\n",
        "#step 2: CV to find optimal threshold: bestThreshold\n",
        "for threshold in thresholds:\n",
        "  y_pred = (p_val < threshold).astype(int)# list of 0 and 1\n",
        "  #calculate recall, precision and f1 for each (truth, pred) pair, corresponding to that threshold\n",
        "  scores.append([recall_score(valLabel, y_pred),\n",
        "                 precision_score(valLabel, y_pred),\n",
        "                 f1_score(valLabel, y_pred, average = \"binary\")])\n",
        "\n",
        "scores = np.array(scores)\n",
        "\n",
        "print(scores.shape)#each row is a pair of (recall, precision, f1) corresponding to a threshold"
      ],
      "execution_count": 147,
      "outputs": [
        {
          "output_type": "stream",
          "text": [
            "/usr/local/lib/python3.6/dist-packages/sklearn/metrics/_classification.py:1272: UndefinedMetricWarning: Precision is ill-defined and being set to 0.0 due to no predicted samples. Use `zero_division` parameter to control this behavior.\n",
            "  _warn_prf(average, modifier, msg_start, len(result))\n"
          ],
          "name": "stderr"
        },
        {
          "output_type": "stream",
          "text": [
            "(200, 3)\n"
          ],
          "name": "stdout"
        }
      ]
    },
    {
      "cell_type": "code",
      "metadata": {
        "id": "YxGw0Xa7CQZw",
        "outputId": "5d76eac3-9da4-43b7-c0a6-736a4a329dc6",
        "colab": {
          "base_uri": "https://localhost:8080/"
        }
      },
      "source": [
        "print(scores)"
      ],
      "execution_count": 148,
      "outputs": [
        {
          "output_type": "stream",
          "text": [
            "[[0.         0.         0.        ]\n",
            " [0.00406504 1.         0.00809717]\n",
            " [0.00406504 1.         0.00809717]\n",
            " [0.00406504 1.         0.00809717]\n",
            " [0.00406504 1.         0.00809717]\n",
            " [0.00406504 1.         0.00809717]\n",
            " [0.00406504 1.         0.00809717]\n",
            " [0.00406504 1.         0.00809717]\n",
            " [0.00406504 1.         0.00809717]\n",
            " [0.00406504 1.         0.00809717]\n",
            " [0.00406504 1.         0.00809717]\n",
            " [0.00406504 1.         0.00809717]\n",
            " [0.00406504 1.         0.00809717]\n",
            " [0.00406504 1.         0.00809717]\n",
            " [0.00406504 1.         0.00809717]\n",
            " [0.00406504 1.         0.00809717]\n",
            " [0.00406504 1.         0.00809717]\n",
            " [0.00406504 1.         0.00809717]\n",
            " [0.00406504 1.         0.00809717]\n",
            " [0.00406504 1.         0.00809717]\n",
            " [0.00406504 1.         0.00809717]\n",
            " [0.00406504 1.         0.00809717]\n",
            " [0.00406504 1.         0.00809717]\n",
            " [0.00813008 1.         0.01612903]\n",
            " [0.00813008 1.         0.01612903]\n",
            " [0.00813008 1.         0.01612903]\n",
            " [0.00813008 1.         0.01612903]\n",
            " [0.00813008 1.         0.01612903]\n",
            " [0.00813008 1.         0.01612903]\n",
            " [0.00813008 1.         0.01612903]\n",
            " [0.00813008 1.         0.01612903]\n",
            " [0.00813008 1.         0.01612903]\n",
            " [0.00813008 1.         0.01612903]\n",
            " [0.00813008 1.         0.01612903]\n",
            " [0.00813008 1.         0.01612903]\n",
            " [0.01219512 1.         0.02409639]\n",
            " [0.01219512 1.         0.02409639]\n",
            " [0.01219512 1.         0.02409639]\n",
            " [0.01219512 1.         0.02409639]\n",
            " [0.01219512 1.         0.02409639]\n",
            " [0.01219512 1.         0.02409639]\n",
            " [0.01626016 1.         0.032     ]\n",
            " [0.01626016 1.         0.032     ]\n",
            " [0.01626016 1.         0.032     ]\n",
            " [0.01626016 1.         0.032     ]\n",
            " [0.01626016 1.         0.032     ]\n",
            " [0.01626016 1.         0.032     ]\n",
            " [0.01626016 1.         0.032     ]\n",
            " [0.01626016 1.         0.032     ]\n",
            " [0.01626016 1.         0.032     ]\n",
            " [0.0203252  1.         0.03984064]\n",
            " [0.0203252  1.         0.03984064]\n",
            " [0.0203252  1.         0.03984064]\n",
            " [0.0203252  1.         0.03984064]\n",
            " [0.0203252  1.         0.03984064]\n",
            " [0.0203252  1.         0.03984064]\n",
            " [0.02439024 1.         0.04761905]\n",
            " [0.02845528 1.         0.05533597]\n",
            " [0.03658537 1.         0.07058824]\n",
            " [0.04471545 1.         0.08560311]\n",
            " [0.04471545 1.         0.08560311]\n",
            " [0.04471545 1.         0.08560311]\n",
            " [0.05284553 1.         0.1003861 ]\n",
            " [0.09756098 1.         0.17777778]\n",
            " [0.12601626 1.         0.22382671]\n",
            " [0.1300813  1.         0.23021583]\n",
            " [0.1300813  1.         0.23021583]\n",
            " [0.1300813  1.         0.23021583]\n",
            " [0.1300813  1.         0.23021583]\n",
            " [0.1300813  1.         0.23021583]\n",
            " [0.1300813  1.         0.23021583]\n",
            " [0.1300813  1.         0.23021583]\n",
            " [0.1300813  1.         0.23021583]\n",
            " [0.1300813  1.         0.23021583]\n",
            " [0.1300813  1.         0.23021583]\n",
            " [0.1300813  1.         0.23021583]\n",
            " [0.1300813  1.         0.23021583]\n",
            " [0.1300813  1.         0.23021583]\n",
            " [0.1300813  1.         0.23021583]\n",
            " [0.13414634 1.         0.23655914]\n",
            " [0.15853659 1.         0.27368421]\n",
            " [0.17479675 1.         0.29757785]\n",
            " [0.17479675 1.         0.29757785]\n",
            " [0.17479675 1.         0.29757785]\n",
            " [0.17479675 1.         0.29757785]\n",
            " [0.17479675 1.         0.29757785]\n",
            " [0.17479675 1.         0.29757785]\n",
            " [0.17479675 1.         0.29757785]\n",
            " [0.17479675 1.         0.29757785]\n",
            " [0.17479675 1.         0.29757785]\n",
            " [0.17479675 1.         0.29757785]\n",
            " [0.17479675 1.         0.29757785]\n",
            " [0.17479675 1.         0.29757785]\n",
            " [0.17479675 1.         0.29757785]\n",
            " [0.17479675 1.         0.29757785]\n",
            " [0.17479675 1.         0.29757785]\n",
            " [0.17479675 1.         0.29757785]\n",
            " [0.17886179 1.         0.30344828]\n",
            " [0.18292683 1.         0.30927835]\n",
            " [0.18699187 1.         0.31506849]\n",
            " [0.18699187 1.         0.31506849]\n",
            " [0.19512195 1.         0.32653061]\n",
            " [0.19918699 1.         0.33220339]\n",
            " [0.20325203 1.         0.33783784]\n",
            " [0.20731707 1.         0.34343434]\n",
            " [0.21544715 1.         0.35451505]\n",
            " [0.21544715 1.         0.35451505]\n",
            " [0.21544715 1.         0.35451505]\n",
            " [0.21544715 1.         0.35451505]\n",
            " [0.21544715 1.         0.35451505]\n",
            " [0.21544715 1.         0.35451505]\n",
            " [0.21544715 1.         0.35451505]\n",
            " [0.21544715 1.         0.35451505]\n",
            " [0.21544715 1.         0.35451505]\n",
            " [0.21544715 1.         0.35451505]\n",
            " [0.21544715 1.         0.35451505]\n",
            " [0.21544715 1.         0.35451505]\n",
            " [0.21544715 1.         0.35451505]\n",
            " [0.21544715 1.         0.35451505]\n",
            " [0.21544715 1.         0.35451505]\n",
            " [0.21544715 1.         0.35451505]\n",
            " [0.21544715 1.         0.35451505]\n",
            " [0.21544715 1.         0.35451505]\n",
            " [0.22764228 1.         0.37086093]\n",
            " [0.22764228 1.         0.37086093]\n",
            " [0.22764228 1.         0.37086093]\n",
            " [0.22764228 1.         0.37086093]\n",
            " [0.22764228 1.         0.37086093]\n",
            " [0.22764228 1.         0.37086093]\n",
            " [0.22764228 1.         0.37086093]\n",
            " [0.22764228 1.         0.37086093]\n",
            " [0.22764228 1.         0.37086093]\n",
            " [0.22764228 1.         0.37086093]\n",
            " [0.22764228 1.         0.37086093]\n",
            " [0.22764228 1.         0.37086093]\n",
            " [0.22764228 1.         0.37086093]\n",
            " [0.22764228 1.         0.37086093]\n",
            " [0.22764228 1.         0.37086093]\n",
            " [0.22764228 1.         0.37086093]\n",
            " [0.22764228 1.         0.37086093]\n",
            " [0.22764228 1.         0.37086093]\n",
            " [0.22764228 1.         0.37086093]\n",
            " [0.22764228 1.         0.37086093]\n",
            " [0.22764228 1.         0.37086093]\n",
            " [0.22764228 1.         0.37086093]\n",
            " [0.25203252 1.         0.4025974 ]\n",
            " [0.27642276 1.         0.43312102]\n",
            " [0.27642276 1.         0.43312102]\n",
            " [0.27642276 1.         0.43312102]\n",
            " [0.27642276 1.         0.43312102]\n",
            " [0.27642276 1.         0.43312102]\n",
            " [0.28861789 0.98611111 0.44654088]\n",
            " [0.28861789 0.98611111 0.44654088]\n",
            " [0.28861789 0.95945946 0.44375   ]\n",
            " [0.29268293 0.94736842 0.44720497]\n",
            " [0.31300813 0.95061728 0.47094801]\n",
            " [0.31300813 0.93902439 0.4695122 ]\n",
            " [0.31300813 0.93902439 0.4695122 ]\n",
            " [0.31300813 0.93902439 0.4695122 ]\n",
            " [0.31300813 0.93902439 0.4695122 ]\n",
            " [0.31300813 0.93902439 0.4695122 ]\n",
            " [0.31300813 0.93902439 0.4695122 ]\n",
            " [0.31707317 0.93975904 0.47416413]\n",
            " [0.33333333 0.94252874 0.49249249]\n",
            " [0.33739837 0.94318182 0.49700599]\n",
            " [0.33739837 0.94318182 0.49700599]\n",
            " [0.3495935  0.93478261 0.50887574]\n",
            " [0.3495935  0.93478261 0.50887574]\n",
            " [0.3495935  0.93478261 0.50887574]\n",
            " [0.35365854 0.93548387 0.51327434]\n",
            " [0.37804878 0.93939394 0.53913043]\n",
            " [0.37804878 0.93939394 0.53913043]\n",
            " [0.37804878 0.93939394 0.53913043]\n",
            " [0.37804878 0.93939394 0.53913043]\n",
            " [0.37804878 0.93939394 0.53913043]\n",
            " [0.3902439  0.94117647 0.55172414]\n",
            " [0.41463415 0.94444444 0.57627119]\n",
            " [0.44308943 0.92372881 0.5989011 ]\n",
            " [0.44715447 0.92436975 0.60273973]\n",
            " [0.44715447 0.89430894 0.59620596]\n",
            " [0.44715447 0.88709677 0.59459459]\n",
            " [0.46747967 0.8778626  0.61007958]\n",
            " [0.50406504 0.87943262 0.64082687]\n",
            " [0.51219512 0.85714286 0.64122137]\n",
            " [0.52439024 0.84313725 0.64661654]\n",
            " [0.52439024 0.83766234 0.645     ]\n",
            " [0.54065041 0.83647799 0.65679012]\n",
            " [0.54878049 0.82317073 0.65853659]\n",
            " [0.55691057 0.82035928 0.66343826]\n",
            " [0.58130081 0.8079096  0.67612293]\n",
            " [0.61788618 0.75621891 0.68008949]\n",
            " [0.71138211 0.75431034 0.73221757]\n",
            " [0.72764228 0.72764228 0.72764228]\n",
            " [0.78861789 0.7080292  0.74615385]\n",
            " [0.78861789 0.62580645 0.69784173]\n",
            " [0.80894309 0.57183908 0.67003367]\n",
            " [0.82113821 0.45190157 0.58297258]\n",
            " [0.84146341 0.34214876 0.48648649]\n",
            " [0.85365854 0.19337017 0.31531532]\n",
            " [1.         0.0085786  0.01701127]]\n"
          ],
          "name": "stdout"
        }
      ]
    },
    {
      "cell_type": "code",
      "metadata": {
        "id": "NUv0mGzMYBf8",
        "outputId": "e5a5fd4a-0b90-4046-b768-b6387b4ae162",
        "colab": {
          "base_uri": "https://localhost:8080/"
        }
      },
      "source": [
        "# find the best f1_score \n",
        "maxIndex = scores[...,2].ravel().argmax()\n",
        "bestThreshold = thresholds[maxIndex]\n",
        "\n",
        "print(maxIndex)\n",
        "print(bestThreshold)"
      ],
      "execution_count": 149,
      "outputs": [
        {
          "output_type": "stream",
          "text": [
            "193\n",
            "-253.2360071762041\n"
          ],
          "name": "stdout"
        }
      ]
    },
    {
      "cell_type": "markdown",
      "metadata": {
        "id": "vhAlNr_-QYet"
      },
      "source": [
        "### performance on test data"
      ]
    },
    {
      "cell_type": "code",
      "metadata": {
        "id": "MsLzITjPAOde",
        "outputId": "d988b7a4-8af1-4803-8e27-e45baed64f65",
        "colab": {
          "base_uri": "https://localhost:8080/"
        }
      },
      "source": [
        "#step 3: prediction on test data\n",
        "y_test_pred_raw = model.logpdf(testFeatures)\n",
        "y_pred_test = y_test_pred_raw < bestThreshold\n",
        "\n",
        "f1_score(testLabel, y_pred_test, average = \"binary\")"
      ],
      "execution_count": 150,
      "outputs": [
        {
          "output_type": "execute_result",
          "data": {
            "text/plain": [
              "0.7401574803149606"
            ]
          },
          "metadata": {
            "tags": []
          },
          "execution_count": 150
        }
      ]
    },
    {
      "cell_type": "code",
      "metadata": {
        "id": "ikDtOJUuWrLU",
        "outputId": "b141648a-69e2-4227-9e6f-76228d850248",
        "colab": {
          "base_uri": "https://localhost:8080/"
        }
      },
      "source": [
        "#index of predicted outliers in test data\n",
        "predoutliersTest = np.asarray(np.where(y_pred_test))\n",
        "\n",
        "len(predoutliersTest[0])"
      ],
      "execution_count": 151,
      "outputs": [
        {
          "output_type": "execute_result",
          "data": {
            "text/plain": [
              "262"
            ]
          },
          "metadata": {
            "tags": []
          },
          "execution_count": 151
        }
      ]
    },
    {
      "cell_type": "code",
      "metadata": {
        "id": "9jzeUbA9a3FU",
        "outputId": "21abe3a4-eb48-47e2-f52c-0c2cc53bc807",
        "colab": {
          "base_uri": "https://localhost:8080/"
        }
      },
      "source": [
        "predoutliersTest"
      ],
      "execution_count": 152,
      "outputs": [
        {
          "output_type": "execute_result",
          "data": {
            "text/plain": [
              "array([[  248,   437,   605,  1007,  1353,  1451,  1462,  1546,  1988,\n",
              "         2461,  3674,  3928,  4216,  4928,  5144,  5846,  5975,  6022,\n",
              "         6682,  6706,  6858,  7017,  7138,  8267,  8452,  8611,  8677,\n",
              "         8936,  8996,  9207,  9443,  9807,  9988, 10263, 10391, 10657,\n",
              "        11224, 12205, 13539, 13935, 14050, 14573, 14579, 14802, 14869,\n",
              "        15740, 16061, 16888, 17322, 17663, 19352, 19902, 20680, 20800,\n",
              "        21748, 22366, 22552, 22859, 23217, 23456, 23742, 24639, 24819,\n",
              "        25654, 25678, 26035, 27282, 27293, 27314, 27587, 27723, 28117,\n",
              "        28178, 28396, 28432, 28433, 28434, 28435, 28436, 28437, 28438,\n",
              "        28440, 28443, 28444, 28445, 28446, 28447, 28449, 28450, 28453,\n",
              "        28454, 28455, 28456, 28457, 28458, 28459, 28460, 28461, 28462,\n",
              "        28463, 28464, 28465, 28466, 28467, 28468, 28469, 28470, 28471,\n",
              "        28472, 28473, 28475, 28479, 28480, 28481, 28482, 28483, 28484,\n",
              "        28486, 28487, 28490, 28492, 28493, 28494, 28496, 28497, 28498,\n",
              "        28499, 28500, 28501, 28502, 28503, 28505, 28506, 28507, 28508,\n",
              "        28510, 28511, 28512, 28513, 28517, 28521, 28523, 28525, 28526,\n",
              "        28527, 28528, 28529, 28530, 28531, 28532, 28536, 28538, 28539,\n",
              "        28540, 28542, 28543, 28544, 28546, 28547, 28549, 28550, 28551,\n",
              "        28552, 28553, 28554, 28555, 28556, 28558, 28559, 28560, 28561,\n",
              "        28562, 28564, 28565, 28566, 28567, 28568, 28570, 28572, 28574,\n",
              "        28575, 28576, 28577, 28578, 28579, 28580, 28581, 28583, 28584,\n",
              "        28585, 28586, 28588, 28589, 28591, 28592, 28594, 28596, 28598,\n",
              "        28599, 28600, 28601, 28602, 28603, 28604, 28605, 28606, 28607,\n",
              "        28609, 28610, 28612, 28615, 28617, 28618, 28619, 28620, 28621,\n",
              "        28622, 28623, 28625, 28626, 28628, 28629, 28630, 28631, 28632,\n",
              "        28633, 28636, 28637, 28638, 28639, 28640, 28641, 28642, 28643,\n",
              "        28645, 28646, 28647, 28648, 28649, 28650, 28651, 28652, 28653,\n",
              "        28654, 28656, 28657, 28658, 28659, 28660, 28661, 28662, 28663,\n",
              "        28664, 28666, 28669, 28670, 28671, 28672, 28673, 28674, 28675,\n",
              "        28677]])"
            ]
          },
          "metadata": {
            "tags": []
          },
          "execution_count": 152
        }
      ]
    },
    {
      "cell_type": "code",
      "metadata": {
        "id": "m2AUkBtbAMEr",
        "outputId": "e7cc1da9-baae-445e-cd6e-76e5aa4d53f9",
        "colab": {
          "base_uri": "https://localhost:8080/",
          "height": 295
        }
      },
      "source": [
        "#outliers identified on test data feature column V1 V2\n",
        "plt.figure()\n",
        "plt.title(\"test_data with outlier flaged red\")\n",
        "plt.xlabel(\"V1\")\n",
        "plt.ylabel(\"V2\")\n",
        "plt.plot(testFeatures.iloc[:, 1],testFeatures.iloc[:,2],\"bx\") #plot v1 v2 as blue cross\n",
        "plt.plot(testFeatures.iloc[predoutliersTest[0],0],testFeatures.iloc[predoutliersTest[0],1],\"ro\")#re-plot the outliers as red dots\n",
        "plt.show()"
      ],
      "execution_count": 153,
      "outputs": [
        {
          "output_type": "display_data",
          "data": {
            "image/png": "[encoded data removed]",
            "text/plain": [
              "<Figure size 432x288 with 1 Axes>"
            ]
          },
          "metadata": {
            "tags": [],
            "needs_background": "light"
          }
        }
      ]
    },
    {
      "cell_type": "code",
      "metadata": {
        "id": "xBS9U6gfTYZQ",
        "outputId": "de05dfe1-ff23-4e83-cb2e-8cb460b660aa",
        "colab": {
          "base_uri": "https://localhost:8080/",
          "height": 295
        }
      },
      "source": [
        "#outliers identified on test data feature column V0 V1\n",
        "plt.figure()\n",
        "plt.title(\"test_data with outlier flaged red\")\n",
        "plt.xlabel(\"V0\")\n",
        "plt.ylabel(\"V1\")\n",
        "plt.plot(testFeatures.iloc[:, 0],testFeatures.iloc[:,1],\"bx\") #plot v1 v2 as blue cross\n",
        "plt.plot(testFeatures.iloc[predoutliersTest[0],0],testFeatures.iloc[predoutliersTest[0],1],\"ro\")#re-plot the outliers as red dots\n",
        "plt.show()"
      ],
      "execution_count": 154,
      "outputs": [
        {
          "output_type": "display_data",
          "data": {
            "image/png": "[encoded data removed]",
            "text/plain": [
              "<Figure size 432x288 with 1 Axes>"
            ]
          },
          "metadata": {
            "tags": [],
            "needs_background": "light"
          }
        }
      ]
    },
    {
      "cell_type": "code",
      "metadata": {
        "id": "rF8qcwdvXEKQ",
        "outputId": "a12638f2-48ee-41c3-c5a0-c80cebec9dad",
        "colab": {
          "base_uri": "https://localhost:8080/",
          "height": 295
        }
      },
      "source": [
        "#outliers identified on test data feature column V2 V3\n",
        "plt.figure()\n",
        "plt.title(\"test_data with outlier flaged red\")\n",
        "plt.xlabel(\"V2\")\n",
        "plt.ylabel(\"V3\")\n",
        "plt.plot(testFeatures.iloc[:, 2],testFeatures.iloc[:,3],\"bx\")\n",
        "plt.plot(testFeatures.iloc[predoutliersTest[0],0],testFeatures.iloc[predoutliersTest[0],1],\"ro\")\n",
        "plt.show()"
      ],
      "execution_count": 155,
      "outputs": [
        {
          "output_type": "display_data",
          "data": {
            "image/png": "[encoded data removed]",
            "text/plain": [
              "<Figure size 432x288 with 1 Axes>"
            ]
          },
          "metadata": {
            "tags": [],
            "needs_background": "light"
          }
        }
      ]
    },
    {
      "cell_type": "code",
      "metadata": {
        "id": "WNWb0ZCXEzoG",
        "outputId": "9a66222d-ca1f-4ed9-c970-6751db497d80",
        "colab": {
          "base_uri": "https://localhost:8080/"
        }
      },
      "source": [
        "# generate evaluation metrics\n",
        "print(\"%s: %r\" % (\"accuracy_score is: \", accuracy_score(testLabel, y_pred_test)))\n",
        "print(\"%s: %r\" % (\"roc_auc_score is: \", roc_auc_score(testLabel, y_test_pred_raw)))\n",
        "print(\"%s: %r\" % (\"f1_score is: \", f1_score(testLabel, y_pred_test )))#string to int\n",
        "\n",
        "print (\"confusion_matrix is: \")\n",
        "cm = confusion_matrix(testLabel, y_pred_test)\n",
        "cmDF = pd.DataFrame(cm, columns=['pred_0', 'pred_1'], index=['true_0', 'true_1'])\n",
        "print(cmDF)\n",
        "print('recall =',float(cm[1,1])/(cm[1,0]+cm[1,1]))\n",
        "print('precision =', float(cm[1,1])/(cm[1,1] + cm[0,1]))#1.0\n"
      ],
      "execution_count": 156,
      "outputs": [
        {
          "output_type": "stream",
          "text": [
            "accuracy_score is: : 0.9953971685612665\n",
            "roc_auc_score is: : 0.03898289914947546\n",
            "f1_score is: : 0.7401574803149606\n",
            "confusion_matrix is: \n",
            "        pred_0  pred_1\n",
            "true_0   28358      74\n",
            "true_1      58     188\n",
            "recall = 0.7642276422764228\n",
            "precision = 0.7175572519083969\n"
          ],
          "name": "stdout"
        }
      ]
    },
    {
      "cell_type": "markdown",
      "metadata": {
        "id": "rwA6LxN7khnL"
      },
      "source": [
        "# 4. Supervised ML"
      ]
    },
    {
      "cell_type": "code",
      "metadata": {
        "id": "ZmwhLXemz9Aq"
      },
      "source": [
        "from sklearn import metrics\n",
        "from sklearn.metrics import roc_curve\n",
        "from sklearn.model_selection import train_test_split\n",
        "from sklearn.linear_model import LogisticRegression\n",
        "from sklearn.ensemble import RandomForestClassifier\n",
        "from imblearn.over_sampling import SMOTE\n",
        "from sklearn import preprocessing\n",
        "from sklearn.preprocessing import MinMaxScaler\n",
        "from sklearn.metrics import f1_score, roc_auc_score, roc_curve, precision_recall_curve, auc, make_scorer, recall_score, accuracy_score, precision_score, confusion_matrix\n",
        "from sklearn.model_selection import GridSearchCV"
      ],
      "execution_count": 157,
      "outputs": []
    },
    {
      "cell_type": "code",
      "metadata": {
        "id": "nsMeoD8Eyhwg",
        "outputId": "79968e29-af28-4e68-c8cc-55b39269477c",
        "colab": {
          "base_uri": "https://localhost:8080/"
        }
      },
      "source": [
        "y = creditcardDF['Class']\n",
        "X = creditcardDF.drop(['Class'], axis=1)\n",
        "\n",
        "#split into train/test\n",
        "X_train, X_test, y_train, y_test = train_test_split(X, y, test_size=0.2, random_state=0,stratify=y)\n",
        "print(\"X_train.shape:\", X_train.shape)\n",
        "print(\"y_train.shape:\", y_train.shape)\n",
        "print(\"X_test.shape:\", X_test.shape)"
      ],
      "execution_count": 158,
      "outputs": [
        {
          "output_type": "stream",
          "text": [
            "X_train.shape: (227845, 30)\n",
            "y_train.shape: (227845,)\n",
            "X_test.shape: (56962, 30)\n"
          ],
          "name": "stdout"
        }
      ]
    },
    {
      "cell_type": "markdown",
      "metadata": {
        "id": "TaZgYhqSyIoX"
      },
      "source": [
        "### simple logistic regression"
      ]
    },
    {
      "cell_type": "code",
      "metadata": {
        "id": "WxvWURx7yLPt",
        "outputId": "c3f5aa9f-ef07-401b-a626-b5a1a9aaf619",
        "colab": {
          "base_uri": "https://localhost:8080/"
        }
      },
      "source": [
        "# instantiate the model (using the default parameters)\n",
        "logreg = LogisticRegression()\n",
        "\n",
        "# fit the model with data\n",
        "logreg.fit(X_train,y_train)\n",
        "\n",
        "# predict on test\n",
        "y_pred=logreg.predict(X_test)"
      ],
      "execution_count": 159,
      "outputs": [
        {
          "output_type": "stream",
          "text": [
            "/usr/local/lib/python3.6/dist-packages/sklearn/linear_model/_logistic.py:940: ConvergenceWarning: lbfgs failed to converge (status=1):\n",
            "STOP: TOTAL NO. of ITERATIONS REACHED LIMIT.\n",
            "\n",
            "Increase the number of iterations (max_iter) or scale the data as shown in:\n",
            "    https://scikit-learn.org/stable/modules/preprocessing.html\n",
            "Please also refer to the documentation for alternative solver options:\n",
            "    https://scikit-learn.org/stable/modules/linear_model.html#logistic-regression\n",
            "  extra_warning_msg=_LOGISTIC_SOLVER_CONVERGENCE_MSG)\n"
          ],
          "name": "stderr"
        }
      ]
    },
    {
      "cell_type": "code",
      "metadata": {
        "id": "uDjbcPaPzhP4",
        "outputId": "17669d44-0695-4235-c0f2-48ffec1c9f3c",
        "colab": {
          "base_uri": "https://localhost:8080/"
        }
      },
      "source": [
        "cm = metrics.confusion_matrix(y_test, y_pred)\n",
        "cmDF = pd.DataFrame(cm, columns=['pred_0', 'pred_1'], index=['true_0', 'true_1'])\n",
        "print(cmDF)\n",
        "print('recall =',float(cm[1,1])/(cm[1,0]+cm[1,1]))\n",
        "print('precision =', float(cm[1,1])/(cm[1,1] + cm[0,1]))#1.0\n",
        "print(classification_report(y_test,y_pred))"
      ],
      "execution_count": 160,
      "outputs": [
        {
          "output_type": "stream",
          "text": [
            "        pred_0  pred_1\n",
            "true_0   56854      10\n",
            "true_1      36      62\n",
            "recall = 0.6326530612244898\n",
            "precision = 0.8611111111111112\n",
            "              precision    recall  f1-score   support\n",
            "\n",
            "           0       1.00      1.00      1.00     56864\n",
            "           1       0.86      0.63      0.73        98\n",
            "\n",
            "    accuracy                           1.00     56962\n",
            "   macro avg       0.93      0.82      0.86     56962\n",
            "weighted avg       1.00      1.00      1.00     56962\n",
            "\n"
          ],
          "name": "stdout"
        }
      ]
    },
    {
      "cell_type": "markdown",
      "metadata": {
        "id": "Q4funCRk0Pj3"
      },
      "source": [
        "### simple random forest"
      ]
    },
    {
      "cell_type": "code",
      "metadata": {
        "id": "Nl_YcNO10PDq",
        "outputId": "7d8f899b-ac9f-4277-aeee-6bf7be792c0b",
        "colab": {
          "base_uri": "https://localhost:8080/"
        }
      },
      "source": [
        "classifier_RF = RandomForestClassifier(random_state=0)\n",
        "\n",
        "classifier_RF.fit(X_train, y_train)\n",
        "\n",
        "# predict class labels 0/1 for the test set\n",
        "predicted = classifier_RF.predict(X_test)\n",
        "\n",
        "# generate class probabilities\n",
        "probs = classifier_RF.predict_proba(X_test)\n",
        "\n",
        "# generate evaluation metrics\n",
        "print(\"%s: %r\" % (\"accuracy_score is: \", accuracy_score(y_test, predicted)))\n",
        "print(\"%s: %r\" % (\"roc_auc_score is: \", roc_auc_score(y_test, probs[:, 1])))\n",
        "print(\"%s: %r\" % (\"f1_score is: \", f1_score(y_test, predicted )))#string to int\n",
        "\n",
        "print (\"confusion_matrix is: \")\n",
        "cm = confusion_matrix(y_test, predicted)\n",
        "cmDF = pd.DataFrame(cm, columns=['pred_0', 'pred_1'], index=['true_0', 'true_1'])\n",
        "print(cmDF)\n",
        "print('recall =',float(cm[1,1])/(cm[1,0]+cm[1,1]))\n",
        "print('precision =', float(cm[1,1])/(cm[1,1] + cm[0,1]))#1.0\n",
        "print(classification_report(y_test,predicted))"
      ],
      "execution_count": 161,
      "outputs": [
        {
          "output_type": "stream",
          "text": [
            "accuracy_score is: : 0.9994557775359011\n",
            "roc_auc_score is: : 0.9319579548195192\n",
            "f1_score is: : 0.8187134502923976\n",
            "confusion_matrix is: \n",
            "        pred_0  pred_1\n",
            "true_0   56861       3\n",
            "true_1      28      70\n",
            "recall = 0.7142857142857143\n",
            "precision = 0.958904109589041\n",
            "              precision    recall  f1-score   support\n",
            "\n",
            "           0       1.00      1.00      1.00     56864\n",
            "           1       0.96      0.71      0.82        98\n",
            "\n",
            "    accuracy                           1.00     56962\n",
            "   macro avg       0.98      0.86      0.91     56962\n",
            "weighted avg       1.00      1.00      1.00     56962\n",
            "\n"
          ],
          "name": "stdout"
        }
      ]
    },
    {
      "cell_type": "markdown",
      "metadata": {
        "id": "C8kdDbJT2Gt3"
      },
      "source": [
        "### SMOTE Sampling"
      ]
    },
    {
      "cell_type": "code",
      "metadata": {
        "id": "3OmIsPhC09ki",
        "outputId": "186b85ff-1aa3-4310-eda2-6c77e3842522",
        "colab": {
          "base_uri": "https://localhost:8080/"
        }
      },
      "source": [
        "smote = SMOTE(random_state=12)\n",
        "x_train_sm, y_train_sm = smote.fit_sample(X_train, y_train)\n",
        "\n",
        "unique, counts = np.unique(y_train_sm, return_counts=True)\n",
        "\n",
        "print(np.asarray((unique, counts)).T)"
      ],
      "execution_count": 162,
      "outputs": [
        {
          "output_type": "stream",
          "text": [
            "/usr/local/lib/python3.6/dist-packages/sklearn/utils/deprecation.py:87: FutureWarning: Function safe_indexing is deprecated; safe_indexing is deprecated in version 0.22 and will be removed in version 0.24.\n",
            "  warnings.warn(msg, category=FutureWarning)\n"
          ],
          "name": "stderr"
        },
        {
          "output_type": "stream",
          "text": [
            "[[     0 227451]\n",
            " [     1 227451]]\n"
          ],
          "name": "stdout"
        }
      ]
    },
    {
      "cell_type": "code",
      "metadata": {
        "id": "3Dv3Attq09va",
        "outputId": "dee9574e-5fc7-41a4-f5a6-c16dc2552c96",
        "colab": {
          "base_uri": "https://localhost:8080/"
        }
      },
      "source": [
        "#RF on smoted training data\n",
        "classifier_RF_sm = RandomForestClassifier(random_state=0)\n",
        "\n",
        "classifier_RF_sm.fit(x_train_sm, y_train_sm)\n",
        "\n",
        "# predict class labels for the test set\n",
        "predicted_sm = classifier_RF_sm.predict(X_test)\n",
        "\n",
        "# generate class probabilities\n",
        "probs_sm = classifier_RF_sm.predict_proba(X_test)\n",
        "\n",
        "\n",
        "# generate evaluation metrics\n",
        "print(\"%s: %r\" % (\"accuracy_score_sm is: \", accuracy_score(y_test, predicted_sm)))\n",
        "print(\"%s: %r\" % (\"roc_auc_score_sm is: \", roc_auc_score(y_test, probs_sm[:, 1])))\n",
        "print(\"%s: %r\" % (\"f1_score_sm is: \", f1_score(y_test, predicted_sm )))#string to int\n",
        "\n",
        "print (\"confusion_matrix_sm is: \")\n",
        "cm_sm = confusion_matrix(y_test, predicted_sm)\n",
        "cmDF = pd.DataFrame(cm_sm, columns=['pred_0', 'pred_1'], index=['true_0', 'true_1'])\n",
        "print(cmDF)\n",
        "print('recall or sens_sm =',float(cm_sm[1,1])/(cm_sm[1,0]+cm_sm[1,1]))\n",
        "print('precision_sm =', float(cm_sm[1,1])/(cm_sm[1,1] + cm_sm[0,1]))\n",
        "print(classification_report(y_test,predicted_sm))\n",
        "#different AUC??"
      ],
      "execution_count": 163,
      "outputs": [
        {
          "output_type": "stream",
          "text": [
            "accuracy_score_sm is: : 0.9995259997893332\n",
            "roc_auc_score_sm is: : 0.9737786469399239\n",
            "f1_score_sm is: : 0.850828729281768\n",
            "confusion_matrix_sm is: \n",
            "        pred_0  pred_1\n",
            "true_0   56858       6\n",
            "true_1      21      77\n",
            "recall or sens_sm = 0.7857142857142857\n",
            "precision_sm = 0.927710843373494\n",
            "              precision    recall  f1-score   support\n",
            "\n",
            "           0       1.00      1.00      1.00     56864\n",
            "           1       0.93      0.79      0.85        98\n",
            "\n",
            "    accuracy                           1.00     56962\n",
            "   macro avg       0.96      0.89      0.93     56962\n",
            "weighted avg       1.00      1.00      1.00     56962\n",
            "\n"
          ],
          "name": "stdout"
        }
      ]
    },
    {
      "cell_type": "code",
      "metadata": {
        "id": "QlyTfFGB4kYk",
        "outputId": "f811300c-dc4b-4a24-bd19-235c2d6fbbaf",
        "colab": {
          "base_uri": "https://localhost:8080/"
        }
      },
      "source": [
        "print(classification_report(y_test,predicted_sm))"
      ],
      "execution_count": 164,
      "outputs": [
        {
          "output_type": "stream",
          "text": [
            "              precision    recall  f1-score   support\n",
            "\n",
            "           0       1.00      1.00      1.00     56864\n",
            "           1       0.93      0.79      0.85        98\n",
            "\n",
            "    accuracy                           1.00     56962\n",
            "   macro avg       0.96      0.89      0.93     56962\n",
            "weighted avg       1.00      1.00      1.00     56962\n",
            "\n"
          ],
          "name": "stdout"
        }
      ]
    },
    {
      "cell_type": "markdown",
      "metadata": {
        "id": "mr4427Ru3LHu"
      },
      "source": [
        "SMOTE improved the result quite a bit"
      ]
    },
    {
      "cell_type": "markdown",
      "metadata": {
        "id": "imjg_EF_46Z3"
      },
      "source": [
        "# 5. Parameter tuning by GridSearchCV"
      ]
    },
    {
      "cell_type": "code",
      "metadata": {
        "id": "CuWsqZ2t47_y"
      },
      "source": [
        "# Eval metrics to be calculated for each combination of parameters and cv, they are all calculated(by scoring), but not necessarily used to pick the optimal(by refit)\n",
        "scorers = {\n",
        "    'precision_score': make_scorer(precision_score),\n",
        "    'recall_score': make_scorer(recall_score),\n",
        "    'f1_score': make_scorer(f1_score, pos_label=1)\n",
        "    \n",
        "}"
      ],
      "execution_count": 165,
      "outputs": []
    },
    {
      "cell_type": "code",
      "metadata": {
        "id": "XP6DHHk-4_vM"
      },
      "source": [
        "def grid_search_wrapper(model, parameters, refit_score='f1_score'):\n",
        "    \"\"\"\n",
        "    fits a GridSearchCV classifier using refit_score for optimization(refit on the best model according to refit_score)\n",
        "    prints classifier performance metrics\n",
        "    \"\"\"\n",
        "\n",
        "    grid_search = GridSearchCV(model, parameters, scoring=scorers, refit=refit_score,\n",
        "                           cv=3, return_train_score=True, n_jobs=-1)\n",
        "    grid_search.fit(X_train, y_train)\n",
        "\n",
        "    # make the predictions\n",
        "    y_pred = grid_search.predict(X_test)\n",
        "    y_prob = grid_search.predict_proba(X_test)[:, 1]\n",
        "    \n",
        "    print('Best params for {}'.format(refit_score))\n",
        "    print(grid_search.best_params_)\n",
        "\n",
        "    # confusion matrix on the test data.\n",
        "    print('\\nConfusion matrix of Random Forest optimized for {} on the test data:'.format(refit_score))\n",
        "    cm = confusion_matrix(y_test, y_pred)\n",
        "    cmDF = pd.DataFrame(cm, columns=['pred_0', 'pred_1'], index=['true_0', 'true_1'])\n",
        "    print(cmDF)\n",
        "    \n",
        "    print(\"\\t%s: %r\" % (\"roc_auc_score is: \", roc_auc_score(y_test, y_prob)))\n",
        "    print(\"\\t%s: %r\" % (\"f1_score is: \", f1_score(y_test, y_pred)))#string to int\n",
        "\n",
        "    print('recall = ', float(cm[1,1]) / (cm[1,0] + cm[1,1]))\n",
        "    print('precision = ', float(cm[1,1]) / (cm[1, 1] + cm[0,1]))\n",
        "\n",
        "    return grid_search\n",
        "\n"
      ],
      "execution_count": 166,
      "outputs": []
    },
    {
      "cell_type": "markdown",
      "metadata": {
        "id": "1ugtaleJ5EAc"
      },
      "source": [
        "### Optimizing on f1_score on RF"
      ]
    },
    {
      "cell_type": "code",
      "metadata": {
        "id": "vmOwp4HS4_sv"
      },
      "source": [
        "parameters = {        \n",
        "'max_depth': [None, 5, 15],\n",
        "'n_estimators' :  [10,150],\n",
        "'class_weight' : [{0: 1, 1: w} for w in [0.2, 1, 100]]\n",
        "}\n",
        "\n",
        "clf = RandomForestClassifier(random_state=0)"
      ],
      "execution_count": 167,
      "outputs": []
    },
    {
      "cell_type": "code",
      "metadata": {
        "id": "Xm6a_7Sp_Qib",
        "outputId": "2c0854e6-fedd-4dbe-fa55-d06f58c8cb8a",
        "colab": {
          "base_uri": "https://localhost:8080/"
        }
      },
      "source": [
        "grid_search_rf_f1 = grid_search_wrapper(clf, parameters, refit_score='f1_score')"
      ],
      "execution_count": 168,
      "outputs": [
        {
          "output_type": "stream",
          "text": [
            "Best params for f1_score\n",
            "{'class_weight': {0: 1, 1: 1}, 'max_depth': None, 'n_estimators': 150}\n",
            "\n",
            "Confusion matrix of Random Forest optimized for f1_score on the test data:\n",
            "        pred_0  pred_1\n",
            "true_0   56861       3\n",
            "true_1      27      71\n",
            "\troc_auc_score is: : 0.9365116949283934\n",
            "\tf1_score is: : 0.8255813953488371\n",
            "recall =  0.7244897959183674\n",
            "precision =  0.9594594594594594\n"
          ],
          "name": "stdout"
        }
      ]
    },
    {
      "cell_type": "code",
      "metadata": {
        "id": "nYmT3FJl5HxT",
        "outputId": "7715602f-056e-4e56-a1b6-28d1b61a0e89",
        "colab": {
          "base_uri": "https://localhost:8080/"
        }
      },
      "source": [
        "best_rf_model_f1 = grid_search_rf_f1.best_estimator_\n",
        "best_rf_model_f1"
      ],
      "execution_count": 169,
      "outputs": [
        {
          "output_type": "execute_result",
          "data": {
            "text/plain": [
              "RandomForestClassifier(bootstrap=True, ccp_alpha=0.0, class_weight={0: 1, 1: 1},\n",
              "                       criterion='gini', max_depth=None, max_features='auto',\n",
              "                       max_leaf_nodes=None, max_samples=None,\n",
              "                       min_impurity_decrease=0.0, min_impurity_split=None,\n",
              "                       min_samples_leaf=1, min_samples_split=2,\n",
              "                       min_weight_fraction_leaf=0.0, n_estimators=150,\n",
              "                       n_jobs=None, oob_score=False, random_state=0, verbose=0,\n",
              "                       warm_start=False)"
            ]
          },
          "metadata": {
            "tags": []
          },
          "execution_count": 169
        }
      ]
    },
    {
      "cell_type": "code",
      "metadata": {
        "id": "dZKyU6bv5Hto",
        "outputId": "cc2ef4b0-879d-4892-a85a-09db3aea7920",
        "colab": {
          "base_uri": "https://localhost:8080/",
          "height": 224
        }
      },
      "source": [
        "results_f1 = pd.DataFrame(grid_search_rf_f1.cv_results_)\n",
        "results_sortf1 = results_f1.sort_values(by='mean_test_f1_score', ascending=False)\n",
        "results_sortf1[['mean_test_precision_score', 'mean_test_recall_score', 'mean_test_f1_score', 'mean_train_precision_score', 'mean_train_recall_score', 'mean_train_f1_score','param_max_depth', 'param_class_weight', 'param_n_estimators']].round(3).head()\n",
        "\n"
      ],
      "execution_count": 170,
      "outputs": [
        {
          "output_type": "execute_result",
          "data": {
            "text/html": [
              "<div>\n",
              "<style scoped>\n",
              "    .dataframe tbody tr th:only-of-type {\n",
              "        vertical-align: middle;\n",
              "    }\n",
              "\n",
              "    .dataframe tbody tr th {\n",
              "        vertical-align: top;\n",
              "    }\n",
              "\n",
              "    .dataframe thead th {\n",
              "        text-align: right;\n",
              "    }\n",
              "</style>\n",
              "<table border=\"1\" class=\"dataframe\">\n",
              "  <thead>\n",
              "    <tr style=\"text-align: right;\">\n",
              "      <th></th>\n",
              "      <th>mean_test_precision_score</th>\n",
              "      <th>mean_test_recall_score</th>\n",
              "      <th>mean_test_f1_score</th>\n",
              "      <th>mean_train_precision_score</th>\n",
              "      <th>mean_train_recall_score</th>\n",
              "      <th>mean_train_f1_score</th>\n",
              "      <th>param_max_depth</th>\n",
              "      <th>param_class_weight</th>\n",
              "      <th>param_n_estimators</th>\n",
              "    </tr>\n",
              "  </thead>\n",
              "  <tbody>\n",
              "    <tr>\n",
              "      <th>7</th>\n",
              "      <td>0.943</td>\n",
              "      <td>0.789</td>\n",
              "      <td>0.859</td>\n",
              "      <td>1.000</td>\n",
              "      <td>1.000</td>\n",
              "      <td>1.000</td>\n",
              "      <td>None</td>\n",
              "      <td>{0: 1, 1: 1}</td>\n",
              "      <td>150</td>\n",
              "    </tr>\n",
              "    <tr>\n",
              "      <th>11</th>\n",
              "      <td>0.940</td>\n",
              "      <td>0.789</td>\n",
              "      <td>0.858</td>\n",
              "      <td>1.000</td>\n",
              "      <td>0.897</td>\n",
              "      <td>0.946</td>\n",
              "      <td>15</td>\n",
              "      <td>{0: 1, 1: 1}</td>\n",
              "      <td>150</td>\n",
              "    </tr>\n",
              "    <tr>\n",
              "      <th>13</th>\n",
              "      <td>0.961</td>\n",
              "      <td>0.774</td>\n",
              "      <td>0.857</td>\n",
              "      <td>1.000</td>\n",
              "      <td>1.000</td>\n",
              "      <td>1.000</td>\n",
              "      <td>None</td>\n",
              "      <td>{0: 1, 1: 100}</td>\n",
              "      <td>150</td>\n",
              "    </tr>\n",
              "    <tr>\n",
              "      <th>17</th>\n",
              "      <td>0.952</td>\n",
              "      <td>0.779</td>\n",
              "      <td>0.856</td>\n",
              "      <td>0.997</td>\n",
              "      <td>0.999</td>\n",
              "      <td>0.998</td>\n",
              "      <td>15</td>\n",
              "      <td>{0: 1, 1: 100}</td>\n",
              "      <td>150</td>\n",
              "    </tr>\n",
              "    <tr>\n",
              "      <th>1</th>\n",
              "      <td>0.935</td>\n",
              "      <td>0.789</td>\n",
              "      <td>0.855</td>\n",
              "      <td>1.000</td>\n",
              "      <td>1.000</td>\n",
              "      <td>1.000</td>\n",
              "      <td>None</td>\n",
              "      <td>{0: 1, 1: 0.2}</td>\n",
              "      <td>150</td>\n",
              "    </tr>\n",
              "  </tbody>\n",
              "</table>\n",
              "</div>"
            ],
            "text/plain": [
              "    mean_test_precision_score  ...  param_n_estimators\n",
              "7                       0.943  ...                 150\n",
              "11                      0.940  ...                 150\n",
              "13                      0.961  ...                 150\n",
              "17                      0.952  ...                 150\n",
              "1                       0.935  ...                 150\n",
              "\n",
              "[5 rows x 9 columns]"
            ]
          },
          "metadata": {
            "tags": []
          },
          "execution_count": 170
        }
      ]
    },
    {
      "cell_type": "code",
      "metadata": {
        "id": "JhOMOWX05g5h",
        "outputId": "730547ed-ac4d-4dde-9a75-c5e64ebef7e4",
        "colab": {
          "base_uri": "https://localhost:8080/",
          "height": 979
        }
      },
      "source": [
        "#Var Importance\n",
        "pd.DataFrame(best_rf_model_f1.feature_importances_, index = X_train.columns, columns=['importance']).sort_values('importance', ascending=False)\n",
        "\n"
      ],
      "execution_count": 171,
      "outputs": [
        {
          "output_type": "execute_result",
          "data": {
            "text/html": [
              "<div>\n",
              "<style scoped>\n",
              "    .dataframe tbody tr th:only-of-type {\n",
              "        vertical-align: middle;\n",
              "    }\n",
              "\n",
              "    .dataframe tbody tr th {\n",
              "        vertical-align: top;\n",
              "    }\n",
              "\n",
              "    .dataframe thead th {\n",
              "        text-align: right;\n",
              "    }\n",
              "</style>\n",
              "<table border=\"1\" class=\"dataframe\">\n",
              "  <thead>\n",
              "    <tr style=\"text-align: right;\">\n",
              "      <th></th>\n",
              "      <th>importance</th>\n",
              "    </tr>\n",
              "  </thead>\n",
              "  <tbody>\n",
              "    <tr>\n",
              "      <th>V17</th>\n",
              "      <td>0.139025</td>\n",
              "    </tr>\n",
              "    <tr>\n",
              "      <th>V12</th>\n",
              "      <td>0.131811</td>\n",
              "    </tr>\n",
              "    <tr>\n",
              "      <th>V14</th>\n",
              "      <td>0.115926</td>\n",
              "    </tr>\n",
              "    <tr>\n",
              "      <th>V10</th>\n",
              "      <td>0.098128</td>\n",
              "    </tr>\n",
              "    <tr>\n",
              "      <th>V11</th>\n",
              "      <td>0.077067</td>\n",
              "    </tr>\n",
              "    <tr>\n",
              "      <th>V16</th>\n",
              "      <td>0.074779</td>\n",
              "    </tr>\n",
              "    <tr>\n",
              "      <th>V9</th>\n",
              "      <td>0.037764</td>\n",
              "    </tr>\n",
              "    <tr>\n",
              "      <th>V18</th>\n",
              "      <td>0.036124</td>\n",
              "    </tr>\n",
              "    <tr>\n",
              "      <th>V7</th>\n",
              "      <td>0.026054</td>\n",
              "    </tr>\n",
              "    <tr>\n",
              "      <th>V4</th>\n",
              "      <td>0.023490</td>\n",
              "    </tr>\n",
              "    <tr>\n",
              "      <th>V26</th>\n",
              "      <td>0.022713</td>\n",
              "    </tr>\n",
              "    <tr>\n",
              "      <th>V21</th>\n",
              "      <td>0.016550</td>\n",
              "    </tr>\n",
              "    <tr>\n",
              "      <th>V6</th>\n",
              "      <td>0.014221</td>\n",
              "    </tr>\n",
              "    <tr>\n",
              "      <th>V2</th>\n",
              "      <td>0.013809</td>\n",
              "    </tr>\n",
              "    <tr>\n",
              "      <th>V3</th>\n",
              "      <td>0.013708</td>\n",
              "    </tr>\n",
              "    <tr>\n",
              "      <th>V1</th>\n",
              "      <td>0.013444</td>\n",
              "    </tr>\n",
              "    <tr>\n",
              "      <th>V20</th>\n",
              "      <td>0.013424</td>\n",
              "    </tr>\n",
              "    <tr>\n",
              "      <th>Time</th>\n",
              "      <td>0.012943</td>\n",
              "    </tr>\n",
              "    <tr>\n",
              "      <th>V27</th>\n",
              "      <td>0.011567</td>\n",
              "    </tr>\n",
              "    <tr>\n",
              "      <th>V5</th>\n",
              "      <td>0.011205</td>\n",
              "    </tr>\n",
              "    <tr>\n",
              "      <th>V8</th>\n",
              "      <td>0.011186</td>\n",
              "    </tr>\n",
              "    <tr>\n",
              "      <th>V22</th>\n",
              "      <td>0.010838</td>\n",
              "    </tr>\n",
              "    <tr>\n",
              "      <th>Amount</th>\n",
              "      <td>0.010358</td>\n",
              "    </tr>\n",
              "    <tr>\n",
              "      <th>V19</th>\n",
              "      <td>0.010352</td>\n",
              "    </tr>\n",
              "    <tr>\n",
              "      <th>V13</th>\n",
              "      <td>0.009865</td>\n",
              "    </tr>\n",
              "    <tr>\n",
              "      <th>V15</th>\n",
              "      <td>0.009825</td>\n",
              "    </tr>\n",
              "    <tr>\n",
              "      <th>V28</th>\n",
              "      <td>0.009199</td>\n",
              "    </tr>\n",
              "    <tr>\n",
              "      <th>V25</th>\n",
              "      <td>0.008862</td>\n",
              "    </tr>\n",
              "    <tr>\n",
              "      <th>V24</th>\n",
              "      <td>0.008024</td>\n",
              "    </tr>\n",
              "    <tr>\n",
              "      <th>V23</th>\n",
              "      <td>0.007741</td>\n",
              "    </tr>\n",
              "  </tbody>\n",
              "</table>\n",
              "</div>"
            ],
            "text/plain": [
              "        importance\n",
              "V17       0.139025\n",
              "V12       0.131811\n",
              "V14       0.115926\n",
              "V10       0.098128\n",
              "V11       0.077067\n",
              "V16       0.074779\n",
              "V9        0.037764\n",
              "V18       0.036124\n",
              "V7        0.026054\n",
              "V4        0.023490\n",
              "V26       0.022713\n",
              "V21       0.016550\n",
              "V6        0.014221\n",
              "V2        0.013809\n",
              "V3        0.013708\n",
              "V1        0.013444\n",
              "V20       0.013424\n",
              "Time      0.012943\n",
              "V27       0.011567\n",
              "V5        0.011205\n",
              "V8        0.011186\n",
              "V22       0.010838\n",
              "Amount    0.010358\n",
              "V19       0.010352\n",
              "V13       0.009865\n",
              "V15       0.009825\n",
              "V28       0.009199\n",
              "V25       0.008862\n",
              "V24       0.008024\n",
              "V23       0.007741"
            ]
          },
          "metadata": {
            "tags": []
          },
          "execution_count": 171
        }
      ]
    },
    {
      "cell_type": "markdown",
      "metadata": {
        "id": "6hhZcu6j6QMI"
      },
      "source": [
        "# 6. Additional Feature Engineering\n",
        "Use the output prob from distribution-based model as an additional input feature of the supervised learning model, and see if it improved the model performance"
      ]
    },
    {
      "cell_type": "code",
      "metadata": {
        "id": "FsWh-gvt6qa2",
        "outputId": "2226ded5-55f2-4932-df73-734ff52134e4",
        "colab": {
          "base_uri": "https://localhost:8080/"
        }
      },
      "source": [
        "# prediction on all data\n",
        "allFeatures = creditcardDF[featureNames].reset_index(drop= True)\n",
        "y_pred_raw = model.logpdf(allFeatures)\n",
        "print(len(y_pred_raw))\n",
        "y_pred_raw"
      ],
      "execution_count": 172,
      "outputs": [
        {
          "output_type": "stream",
          "text": [
            "284807\n"
          ],
          "name": "stdout"
        },
        {
          "output_type": "execute_result",
          "data": {
            "text/plain": [
              "array([-151.39263249, -156.61141129, -150.16963606, ...,  -34.79543661,\n",
              "        -40.23622376,  -29.87168758])"
            ]
          },
          "metadata": {
            "tags": []
          },
          "execution_count": 172
        }
      ]
    },
    {
      "cell_type": "code",
      "metadata": {
        "id": "63oBMzYl66fw",
        "outputId": "fd0ddbf5-3fe2-43e1-9778-6c8af2c8a5ff",
        "colab": {
          "base_uri": "https://localhost:8080/"
        }
      },
      "source": [
        "# convert to values between 0 and 1\n",
        "y_pred_raw = np.exp(y_pred_raw)\n",
        "print(min(y_pred_raw))\n",
        "print(max(y_pred_raw))"
      ],
      "execution_count": 173,
      "outputs": [
        {
          "output_type": "stream",
          "text": [
            "0.0\n",
            "5.302573101892494e-12\n"
          ],
          "name": "stdout"
        }
      ]
    },
    {
      "cell_type": "code",
      "metadata": {
        "id": "EesI0Hbm9cBU",
        "outputId": "4930a574-6c9d-46b7-a01d-ba5af8211328",
        "colab": {
          "base_uri": "https://localhost:8080/"
        }
      },
      "source": [
        "print(len(y_pred_raw))"
      ],
      "execution_count": 174,
      "outputs": [
        {
          "output_type": "stream",
          "text": [
            "284807\n"
          ],
          "name": "stdout"
        }
      ]
    },
    {
      "cell_type": "code",
      "metadata": {
        "id": "hC-h518eyEXl",
        "outputId": "139f56b0-eff0-46dc-be1a-0b270a723b09",
        "colab": {
          "base_uri": "https://localhost:8080/"
        }
      },
      "source": [
        "df = creditcardDF.copy()\n",
        "print(df.shape)"
      ],
      "execution_count": 175,
      "outputs": [
        {
          "output_type": "stream",
          "text": [
            "(284807, 31)\n"
          ],
          "name": "stdout"
        }
      ]
    },
    {
      "cell_type": "code",
      "metadata": {
        "id": "cgLMht8_yEl3"
      },
      "source": [
        "df['oup_prob'] = y_pred_raw"
      ],
      "execution_count": 176,
      "outputs": []
    },
    {
      "cell_type": "code",
      "metadata": {
        "id": "wj7Q8cP2933N",
        "outputId": "bb3b3c9c-eaf1-4b62-d5bf-7080c5994091",
        "colab": {
          "base_uri": "https://localhost:8080/"
        }
      },
      "source": [
        "y = df['Class']\n",
        "X = df.drop(['Class'], axis=1)\n",
        "\n",
        "#split into train/test\n",
        "X_train, X_test, y_train, y_test = train_test_split(X, y, test_size=0.2, random_state=0,stratify=y)\n",
        "print(\"X_train.shape:\", X_train.shape)\n",
        "print(\"y_train.shape:\", y_train.shape)\n",
        "print(\"X_test.shape:\", X_test.shape)"
      ],
      "execution_count": 177,
      "outputs": [
        {
          "output_type": "stream",
          "text": [
            "X_train.shape: (227845, 31)\n",
            "y_train.shape: (227845,)\n",
            "X_test.shape: (56962, 31)\n"
          ],
          "name": "stdout"
        }
      ]
    },
    {
      "cell_type": "code",
      "metadata": {
        "id": "ldHDge1zyEuo",
        "outputId": "82f6cdd4-c86c-4f09-8b74-f8e84da3959a",
        "colab": {
          "base_uri": "https://localhost:8080/"
        }
      },
      "source": [
        "classifier_RF = RandomForestClassifier(random_state=0)\n",
        "\n",
        "classifier_RF.fit(X_train, y_train)\n",
        "\n",
        "# predict class labels 0/1 for the test set\n",
        "predicted = classifier_RF.predict(X_test)\n",
        "\n",
        "# generate class probabilities\n",
        "probs = classifier_RF.predict_proba(X_test)\n",
        "\n",
        "# generate evaluation metrics\n",
        "print(\"%s: %r\" % (\"accuracy_score is: \", accuracy_score(y_test, predicted)))\n",
        "print(\"%s: %r\" % (\"roc_auc_score is: \", roc_auc_score(y_test, probs[:, 1])))\n",
        "print(\"%s: %r\" % (\"f1_score is: \", f1_score(y_test, predicted )))#string to int\n",
        "\n",
        "print (\"confusion_matrix is: \")\n",
        "cm = confusion_matrix(y_test, predicted)\n",
        "cmDF = pd.DataFrame(cm, columns=['pred_0', 'pred_1'], index=['true_0', 'true_1'])\n",
        "print(cmDF)\n",
        "print('recall =',float(cm[1,1])/(cm[1,0]+cm[1,1]))\n",
        "print('precision =', float(cm[1,1])/(cm[1,1] + cm[0,1]))#1.0\n",
        "print(classification_report(y_test,predicted))"
      ],
      "execution_count": 178,
      "outputs": [
        {
          "output_type": "stream",
          "text": [
            "accuracy_score is: : 0.9994733330992591\n",
            "roc_auc_score is: : 0.9267924794425368\n",
            "f1_score is: : 0.8275862068965517\n",
            "confusion_matrix is: \n",
            "        pred_0  pred_1\n",
            "true_0   56860       4\n",
            "true_1      26      72\n",
            "recall = 0.7346938775510204\n",
            "precision = 0.9473684210526315\n",
            "              precision    recall  f1-score   support\n",
            "\n",
            "           0       1.00      1.00      1.00     56864\n",
            "           1       0.95      0.73      0.83        98\n",
            "\n",
            "    accuracy                           1.00     56962\n",
            "   macro avg       0.97      0.87      0.91     56962\n",
            "weighted avg       1.00      1.00      1.00     56962\n",
            "\n"
          ],
          "name": "stdout"
        }
      ]
    },
    {
      "cell_type": "code",
      "metadata": {
        "id": "xfEdQA4XyEsc",
        "outputId": "cc48c984-3e02-47de-a63d-c11790ae4f20",
        "colab": {
          "base_uri": "https://localhost:8080/"
        }
      },
      "source": [
        "smote = SMOTE(random_state=12)\n",
        "x_train_sm, y_train_sm = smote.fit_sample(X_train, y_train)\n",
        "\n",
        "unique, counts = np.unique(y_train_sm, return_counts=True)\n",
        "\n",
        "print(np.asarray((unique, counts)).T)"
      ],
      "execution_count": 179,
      "outputs": [
        {
          "output_type": "stream",
          "text": [
            "/usr/local/lib/python3.6/dist-packages/sklearn/utils/deprecation.py:87: FutureWarning: Function safe_indexing is deprecated; safe_indexing is deprecated in version 0.22 and will be removed in version 0.24.\n",
            "  warnings.warn(msg, category=FutureWarning)\n"
          ],
          "name": "stderr"
        },
        {
          "output_type": "stream",
          "text": [
            "[[     0 227451]\n",
            " [     1 227451]]\n"
          ],
          "name": "stdout"
        }
      ]
    },
    {
      "cell_type": "code",
      "metadata": {
        "id": "VEi9W8ziyEpz",
        "outputId": "969ca6ea-2718-4672-d427-1d4fcad62c65",
        "colab": {
          "base_uri": "https://localhost:8080/"
        }
      },
      "source": [
        "#RF on smoted training data\n",
        "classifier_RF_sm = RandomForestClassifier(random_state=0)\n",
        "\n",
        "classifier_RF_sm.fit(x_train_sm, y_train_sm)\n",
        "\n",
        "# predict class labels for the test set\n",
        "predicted_sm = classifier_RF_sm.predict(X_test)\n",
        "\n",
        "# generate class probabilities\n",
        "probs_sm = classifier_RF_sm.predict_proba(X_test)\n",
        "\n",
        "\n",
        "# generate evaluation metrics\n",
        "print(\"%s: %r\" % (\"accuracy_score_sm is: \", accuracy_score(y_test, predicted_sm)))\n",
        "print(\"%s: %r\" % (\"roc_auc_score_sm is: \", roc_auc_score(y_test, probs_sm[:, 1])))\n",
        "print(\"%s: %r\" % (\"f1_score_sm is: \", f1_score(y_test, predicted_sm )))#string to int\n",
        "\n",
        "print (\"confusion_matrix_sm is: \")\n",
        "cm_sm = confusion_matrix(y_test, predicted_sm)\n",
        "cmDF = pd.DataFrame(cm_sm, columns=['pred_0', 'pred_1'], index=['true_0', 'true_1'])\n",
        "print(cmDF)\n",
        "print('recall or sens_sm =',float(cm_sm[1,1])/(cm_sm[1,0]+cm_sm[1,1]))\n",
        "print('precision_sm =', float(cm_sm[1,1])/(cm_sm[1,1] + cm_sm[0,1]))\n",
        "print(classification_report(y_test,predicted_sm))\n"
      ],
      "execution_count": 180,
      "outputs": [
        {
          "output_type": "stream",
          "text": [
            "accuracy_score_sm is: : 0.9995084442259752\n",
            "roc_auc_score_sm is: : 0.952209729910535\n",
            "f1_score_sm is: : 0.8444444444444446\n",
            "confusion_matrix_sm is: \n",
            "        pred_0  pred_1\n",
            "true_0   56858       6\n",
            "true_1      22      76\n",
            "recall or sens_sm = 0.7755102040816326\n",
            "precision_sm = 0.926829268292683\n",
            "              precision    recall  f1-score   support\n",
            "\n",
            "           0       1.00      1.00      1.00     56864\n",
            "           1       0.93      0.78      0.84        98\n",
            "\n",
            "    accuracy                           1.00     56962\n",
            "   macro avg       0.96      0.89      0.92     56962\n",
            "weighted avg       1.00      1.00      1.00     56962\n",
            "\n"
          ],
          "name": "stdout"
        }
      ]
    },
    {
      "cell_type": "markdown",
      "metadata": {
        "id": "c_E6PVS9WzIJ"
      },
      "source": [
        "# 7. Try Unupervised Machine Learning\n",
        "# Isolation Forest Algorithm"
      ]
    },
    {
      "cell_type": "code",
      "metadata": {
        "id": "AHFSVxL9a7qh"
      },
      "source": [
        "from sklearn.ensemble import IsolationForest"
      ],
      "execution_count": 181,
      "outputs": []
    },
    {
      "cell_type": "code",
      "metadata": {
        "id": "10mGRkhkbocB",
        "outputId": "bb154ffd-fbb4-41c6-caab-00316b2a677b",
        "colab": {
          "base_uri": "https://localhost:8080/"
        }
      },
      "source": [
        "#include all data except labels\n",
        "data = creditcardDF[featureNames].values\n",
        "print(type(data))"
      ],
      "execution_count": 182,
      "outputs": [
        {
          "output_type": "stream",
          "text": [
            "<class 'numpy.ndarray'>\n"
          ],
          "name": "stdout"
        }
      ]
    },
    {
      "cell_type": "code",
      "metadata": {
        "id": "ZKTVB35UcgZd",
        "outputId": "246f24a9-af0c-48eb-becc-50f646728a1e",
        "colab": {
          "base_uri": "https://localhost:8080/"
        }
      },
      "source": [
        "outlier_fraction = creditcardDF['Class'].sum()/len(creditcardDF['Class'])\n",
        "outlier_fraction"
      ],
      "execution_count": 183,
      "outputs": [
        {
          "output_type": "execute_result",
          "data": {
            "text/plain": [
              "0.001727485630620034"
            ]
          },
          "metadata": {
            "tags": []
          },
          "execution_count": 183
        }
      ]
    },
    {
      "cell_type": "code",
      "metadata": {
        "id": "8SAVvaf3bcMe"
      },
      "source": [
        "isolation_forest = IsolationForest(n_estimators=100, \n",
        "                                   max_samples=len(data), \n",
        "                                   contamination=outlier_fraction,\n",
        "                                   random_state=0)"
      ],
      "execution_count": 184,
      "outputs": []
    },
    {
      "cell_type": "code",
      "metadata": {
        "id": "0jq13acKbcY_",
        "outputId": "17d37aec-b28b-4b04-9b64-5b07e31689b6",
        "colab": {
          "base_uri": "https://localhost:8080/"
        }
      },
      "source": [
        "# fit the model\n",
        "isolation_forest.fit(data)"
      ],
      "execution_count": 185,
      "outputs": [
        {
          "output_type": "execute_result",
          "data": {
            "text/plain": [
              "IsolationForest(behaviour='deprecated', bootstrap=False,\n",
              "                contamination=0.001727485630620034, max_features=1.0,\n",
              "                max_samples=284807, n_estimators=100, n_jobs=None,\n",
              "                random_state=0, verbose=0, warm_start=False)"
            ]
          },
          "metadata": {
            "tags": []
          },
          "execution_count": 185
        }
      ]
    },
    {
      "cell_type": "code",
      "metadata": {
        "id": "yoaagep5bcW9",
        "outputId": "55e17189-6569-4b82-ae05-1342654b3353",
        "colab": {
          "base_uri": "https://localhost:8080/"
        }
      },
      "source": [
        "# predict label 1 for normal and -1 for abnormal\n",
        "y_pred = isolation_forest.predict(data)\n",
        "y_pred"
      ],
      "execution_count": 186,
      "outputs": [
        {
          "output_type": "execute_result",
          "data": {
            "text/plain": [
              "array([1, 1, 1, ..., 1, 1, 1])"
            ]
          },
          "metadata": {
            "tags": []
          },
          "execution_count": 186
        }
      ]
    },
    {
      "cell_type": "code",
      "metadata": {
        "id": "fC75fXcmgdUS",
        "outputId": "ae814e78-35fb-46f6-a49d-2b1c88b6aa5a",
        "colab": {
          "base_uri": "https://localhost:8080/"
        }
      },
      "source": [
        "# get anomaly score for each data point\n",
        "scores_prediction = isolation_forest.decision_function(data)\n",
        "scores_prediction"
      ],
      "execution_count": 187,
      "outputs": [
        {
          "output_type": "execute_result",
          "data": {
            "text/plain": [
              "array([0.08257958, 0.08952257, 0.06338475, ..., 0.18907985, 0.1729923 ,\n",
              "       0.1932515 ])"
            ]
          },
          "metadata": {
            "tags": []
          },
          "execution_count": 187
        }
      ]
    },
    {
      "cell_type": "code",
      "metadata": {
        "id": "zmNKmBhxeH-7",
        "outputId": "ebcd813d-aa79-4146-e6d3-3c4877f41de7",
        "colab": {
          "base_uri": "https://localhost:8080/"
        }
      },
      "source": [
        "(y_pred<0).mean()  # contamination fraction determines this"
      ],
      "execution_count": 188,
      "outputs": [
        {
          "output_type": "execute_result",
          "data": {
            "text/plain": [
              "0.001727485630620034"
            ]
          },
          "metadata": {
            "tags": []
          },
          "execution_count": 188
        }
      ]
    },
    {
      "cell_type": "code",
      "metadata": {
        "id": "wwuOCWKRew2k"
      },
      "source": [
        "# get index of predicted abnormals\n",
        "ab_index = np.where(y_pred<0)\n"
      ],
      "execution_count": 189,
      "outputs": []
    },
    {
      "cell_type": "code",
      "metadata": {
        "id": "coWrCS7Oi_kD",
        "outputId": "890d37d5-72d9-48bb-9f2b-47eb0fd29bdd",
        "colab": {
          "base_uri": "https://localhost:8080/"
        }
      },
      "source": [
        "len(ab_index[0])"
      ],
      "execution_count": 190,
      "outputs": [
        {
          "output_type": "execute_result",
          "data": {
            "text/plain": [
              "492"
            ]
          },
          "metadata": {
            "tags": []
          },
          "execution_count": 190
        }
      ]
    },
    {
      "cell_type": "code",
      "metadata": {
        "id": "px8qrTWufCDV",
        "outputId": "a97968d7-b9e9-4f2a-8679-9193c4643b59",
        "colab": {
          "base_uri": "https://localhost:8080/",
          "height": 295
        }
      },
      "source": [
        "#outliers identified on all data feature column V1 V2\n",
        "plt.figure()\n",
        "plt.title(\"all data with outlier flaged red\")\n",
        "plt.xlabel(\"V1\")\n",
        "plt.ylabel(\"V2\")\n",
        "plt.plot(data[:, 1],data[:,2],\"bx\") #plot v1 v2 as blue cross\n",
        "plt.plot(data[ab_index,0],data[ab_index,1],\"ro\")#re-plot the outliers as red dots\n",
        "plt.show()"
      ],
      "execution_count": 191,
      "outputs": [
        {
          "output_type": "display_data",
          "data": {
            "image/png": "[encoded data removed]",
            "text/plain": [
              "<Figure size 432x288 with 1 Axes>"
            ]
          },
          "metadata": {
            "tags": [],
            "needs_background": "light"
          }
        }
      ]
    },
    {
      "cell_type": "code",
      "metadata": {
        "id": "TqL4qic9fxcs"
      },
      "source": [
        "trueLabel = creditcardDF['Class']"
      ],
      "execution_count": 192,
      "outputs": []
    },
    {
      "cell_type": "code",
      "metadata": {
        "id": "Yl7uJVxBj9PT"
      },
      "source": [
        " #Reshape the prediction values to 0 for Valid transactions , 1 for Fraud transactions\n",
        "y_pred[y_pred == 1] = 0\n",
        "y_pred[y_pred == -1] = 1"
      ],
      "execution_count": 193,
      "outputs": []
    },
    {
      "cell_type": "code",
      "metadata": {
        "id": "C94WW6myiA04",
        "outputId": "6d3169c9-f091-4b07-8c9d-ec8244169084",
        "colab": {
          "base_uri": "https://localhost:8080/"
        }
      },
      "source": [
        " # generate evaluation metrics\n",
        "print(\"%s: %r\" % (\"accuracy_score is: \", accuracy_score(trueLabel, y_pred)))\n",
        "print(\"%s: %r\" % (\"roc_auc_score is: \", roc_auc_score(trueLabel, scores_prediction)))\n",
        "print(\"%s: %r\" % (\"f1_score is: \", f1_score(trueLabel, y_pred )))#string to int\n",
        "\n",
        "print (\"confusion_matrix is: \")\n",
        "cm = confusion_matrix(trueLabel, y_pred)\n",
        "cmDF = pd.DataFrame(cm, columns=['pred_0', 'pred_1'], index=['true_0', 'true_1'])\n",
        "print(cmDF)\n",
        "print('recall =',float(cm[1,1])/(cm[1,0]+cm[1,1]))\n",
        "print('precision =', float(cm[1,1])/(cm[1,1] + cm[0,1]))#1.0\n"
      ],
      "execution_count": 194,
      "outputs": [
        {
          "output_type": "stream",
          "text": [
            "accuracy_score is: : 0.9977879757168889\n",
            "roc_auc_score is: : 0.042613125628293023\n",
            "f1_score is: : 0.3597560975609756\n",
            "confusion_matrix is: \n",
            "        pred_0  pred_1\n",
            "true_0  284000     315\n",
            "true_1     315     177\n",
            "recall = 0.3597560975609756\n",
            "precision = 0.3597560975609756\n"
          ],
          "name": "stdout"
        }
      ]
    },
    {
      "cell_type": "code",
      "metadata": {
        "id": "o5Oluy4RbcUJ",
        "outputId": "62e9a926-cf32-47e5-9639-856a54941559",
        "colab": {
          "base_uri": "https://localhost:8080/"
        }
      },
      "source": [
        "from sklearn.metrics import classification_report,accuracy_score\n",
        "\n",
        "# # Run Classification Metrics\n",
        "print(\"Classification Report :\")\n",
        "print(classification_report(trueLabel,y_pred))"
      ],
      "execution_count": 195,
      "outputs": [
        {
          "output_type": "stream",
          "text": [
            "Classification Report :\n",
            "              precision    recall  f1-score   support\n",
            "\n",
            "           0       1.00      1.00      1.00    284315\n",
            "           1       0.36      0.36      0.36       492\n",
            "\n",
            "    accuracy                           1.00    284807\n",
            "   macro avg       0.68      0.68      0.68    284807\n",
            "weighted avg       1.00      1.00      1.00    284807\n",
            "\n"
          ],
          "name": "stdout"
        }
      ]
    },
    {
      "cell_type": "code",
      "metadata": {
        "id": "GQLRk8QFbcQZ"
      },
      "source": [
        ""
      ],
      "execution_count": 195,
      "outputs": []
    },
    {
      "cell_type": "code",
      "metadata": {
        "id": "2XBjlsqlAQwP"
      },
      "source": [
        "#note we can apply supervised learning on this data too, but performance may be different, \n",
        "#can try use the output prob as an additional input feature of the supervised learning model, and see if it improved the model perf"
      ],
      "execution_count": 196,
      "outputs": []
    },
    {
      "cell_type": "code",
      "metadata": {
        "id": "GlGZ1dSIAUaA"
      },
      "source": [
        ""
      ],
      "execution_count": 196,
      "outputs": []
    }
  ]
}